{
 "cells": [
  {
   "cell_type": "code",
   "execution_count": 6,
   "id": "0ab75468",
   "metadata": {},
   "outputs": [
    {
     "name": "stdout",
     "output_type": "stream",
     "text": [
      "15\n"
     ]
    }
   ],
   "source": [
    "def func(a, b):\n",
    "    return b if a == 0 else func(b % a, a)\n",
    "\n",
    "print(func(30, 75))"
   ]
  },
  {
   "cell_type": "code",
   "execution_count": 7,
   "id": "4e2257a5",
   "metadata": {},
   "outputs": [
    {
     "name": "stdout",
     "output_type": "stream",
     "text": [
      "<class 'filter'>\n"
     ]
    }
   ],
   "source": [
    "numbers = (4, 7, 19, 2, 89, 45, 72, 22)\n",
    "sorted_numbers = sorted(numbers)\n",
    "even = lambda a: a % 2 == 0\n",
    "even_numbers = filter(even, sorted_numbers)\n",
    "print(type(even_numbers))"
   ]
  },
  {
   "cell_type": "code",
   "execution_count": 8,
   "id": "e5c4ab74",
   "metadata": {},
   "outputs": [],
   "source": [
    "numbers = (4, 7, 19, 2, 89, 45, 72, 22)\n",
    "sorted_numbers = sorted(numbers)"
   ]
  },
  {
   "cell_type": "code",
   "execution_count": 10,
   "id": "d5a46e77",
   "metadata": {},
   "outputs": [
    {
     "data": {
      "text/plain": [
       "[2, 4, 7, 19, 22, 45, 72, 89]"
      ]
     },
     "execution_count": 10,
     "metadata": {},
     "output_type": "execute_result"
    }
   ],
   "source": [
    "sorted_numbers"
   ]
  },
  {
   "cell_type": "code",
   "execution_count": 15,
   "id": "d69a128e",
   "metadata": {},
   "outputs": [
    {
     "name": "stdout",
     "output_type": "stream",
     "text": [
      "<class 'filter'>\n"
     ]
    }
   ],
   "source": [
    "even = lambda a: a % 2 == 0\n",
    "even_numbers = filter(even, sorted_numbers)\n",
    "print(type(even_numbers))"
   ]
  },
  {
   "cell_type": "code",
   "execution_count": 14,
   "id": "5e349fbf",
   "metadata": {},
   "outputs": [
    {
     "data": {
      "text/plain": [
       "<filter at 0x24787fde550>"
      ]
     },
     "execution_count": 14,
     "metadata": {},
     "output_type": "execute_result"
    }
   ],
   "source": [
    "even_numbers"
   ]
  },
  {
   "cell_type": "code",
   "execution_count": 23,
   "id": "3e30ed07",
   "metadata": {},
   "outputs": [
    {
     "ename": "TypeError",
     "evalue": "unsupported operand type(s) for +: 'set' and 'set'",
     "output_type": "error",
     "traceback": [
      "\u001b[1;31m---------------------------------------------------------------------------\u001b[0m",
      "\u001b[1;31mTypeError\u001b[0m                                 Traceback (most recent call last)",
      "\u001b[1;32m~\\AppData\\Local\\Temp\\ipykernel_14496\\3010725428.py\u001b[0m in \u001b[0;36m<module>\u001b[1;34m\u001b[0m\n\u001b[0;32m      3\u001b[0m \u001b[0mset3\u001b[0m \u001b[1;33m=\u001b[0m \u001b[1;33m{\u001b[0m\u001b[1;36m99\u001b[0m\u001b[1;33m,\u001b[0m\u001b[1;36m22\u001b[0m\u001b[1;33m,\u001b[0m\u001b[1;36m17\u001b[0m\u001b[1;33m}\u001b[0m\u001b[1;33m\u001b[0m\u001b[1;33m\u001b[0m\u001b[0m\n\u001b[0;32m      4\u001b[0m \u001b[1;33m\u001b[0m\u001b[0m\n\u001b[1;32m----> 5\u001b[1;33m \u001b[0mprint\u001b[0m\u001b[1;33m(\u001b[0m\u001b[0mlen\u001b[0m\u001b[1;33m(\u001b[0m\u001b[0mset1\u001b[0m\u001b[1;33m+\u001b[0m\u001b[0mset2\u001b[0m\u001b[1;33m+\u001b[0m\u001b[0mset3\u001b[0m\u001b[1;33m)\u001b[0m\u001b[1;33m)\u001b[0m\u001b[1;33m\u001b[0m\u001b[1;33m\u001b[0m\u001b[0m\n\u001b[0m",
      "\u001b[1;31mTypeError\u001b[0m: unsupported operand type(s) for +: 'set' and 'set'"
     ]
    }
   ],
   "source": [
    "set1 = {14, 3, 55}\n",
    "set2 = {82, 49, 62}\n",
    "set3 = {99,22,17}\n",
    "\n",
    "print(len(set1+set2+set3))    #In Python, you cannot use the + operator to concatenate sets, as you can with lists or strings. \n",
    "                              #Sets do not support the + operator because they are unordered collections of unique elements"
   ]
  },
  {
   "cell_type": "code",
   "execution_count": 19,
   "id": "7a57d3c0",
   "metadata": {},
   "outputs": [
    {
     "name": "stdout",
     "output_type": "stream",
     "text": [
      "9\n"
     ]
    }
   ],
   "source": [
    "set1 = {14, 3, 55}\n",
    "set2 = {82, 49, 62}\n",
    "set3 = {99,22,17}\n",
    "\n",
    "print(len(set1|set2|set3))       #To combine sets, you should use the union operator (|) or the union() method. \n",
    "                                 #Here's how you can get the length of the union of set1, set2, and set3:\n",
    "\n"
   ]
  },
  {
   "cell_type": "code",
   "execution_count": 24,
   "id": "64d31faa",
   "metadata": {},
   "outputs": [
    {
     "name": "stdout",
     "output_type": "stream",
     "text": [
      "208\n"
     ]
    }
   ],
   "source": [
    "print(4**3 + (7 + 5)**(1 + 1))"
   ]
  },
  {
   "cell_type": "code",
   "execution_count": 25,
   "id": "89741434",
   "metadata": {},
   "outputs": [],
   "source": [
    "captains = { \"Enterprise\": \"Picard\", \"Voyager\": \"Janeway\", \"Defiant\": \"Sisko\", }"
   ]
  },
  {
   "cell_type": "code",
   "execution_count": 26,
   "id": "07712430",
   "metadata": {},
   "outputs": [
    {
     "data": {
      "text/plain": [
       "{'Enterprise': 'Picard', 'Voyager': 'Janeway', 'Defiant': 'Sisko'}"
      ]
     },
     "execution_count": 26,
     "metadata": {},
     "output_type": "execute_result"
    }
   ],
   "source": [
    "captains"
   ]
  },
  {
   "cell_type": "code",
   "execution_count": 27,
   "id": "188def3d",
   "metadata": {},
   "outputs": [],
   "source": [
    "captains = { \"Enterprise\": \"Picard\", \"Voyager\": \"Janeway\", \"Defiant\": \"Sisko\", \"Discovery\": \"unknown\"}"
   ]
  },
  {
   "cell_type": "code",
   "execution_count": 28,
   "id": "3e9ea925",
   "metadata": {},
   "outputs": [
    {
     "data": {
      "text/plain": [
       "{'Enterprise': 'Picard',\n",
       " 'Voyager': 'Janeway',\n",
       " 'Defiant': 'Sisko',\n",
       " 'Discovery': 'unknown'}"
      ]
     },
     "execution_count": 28,
     "metadata": {},
     "output_type": "execute_result"
    }
   ],
   "source": [
    "captains"
   ]
  },
  {
   "cell_type": "code",
   "execution_count": 29,
   "id": "741e4e5d",
   "metadata": {},
   "outputs": [
    {
     "ename": "AttributeError",
     "evalue": "'str' object has no attribute 'pop'",
     "output_type": "error",
     "traceback": [
      "\u001b[1;31m---------------------------------------------------------------------------\u001b[0m",
      "\u001b[1;31mAttributeError\u001b[0m                            Traceback (most recent call last)",
      "\u001b[1;32m~\\AppData\\Local\\Temp\\ipykernel_14496\\257869157.py\u001b[0m in \u001b[0;36m<module>\u001b[1;34m\u001b[0m\n\u001b[1;32m----> 1\u001b[1;33m \u001b[0mcaptains\u001b[0m\u001b[1;33m[\u001b[0m\u001b[1;34m\"Discovery\"\u001b[0m\u001b[1;33m]\u001b[0m\u001b[1;33m.\u001b[0m\u001b[0mpop\u001b[0m\u001b[1;33m(\u001b[0m\u001b[1;33m)\u001b[0m\u001b[1;33m\u001b[0m\u001b[1;33m\u001b[0m\u001b[0m\n\u001b[0m",
      "\u001b[1;31mAttributeError\u001b[0m: 'str' object has no attribute 'pop'"
     ]
    }
   ],
   "source": [
    "captains[\"Discovery\"].pop()    #wrong syntax --- it will be --- captains.pop(\"Discovery\")"
   ]
  },
  {
   "cell_type": "code",
   "execution_count": 30,
   "id": "f187c428",
   "metadata": {},
   "outputs": [],
   "source": [
    "del captains[\"Discovery\"]"
   ]
  },
  {
   "cell_type": "code",
   "execution_count": 31,
   "id": "e375854a",
   "metadata": {},
   "outputs": [
    {
     "data": {
      "text/plain": [
       "{'Enterprise': 'Picard', 'Voyager': 'Janeway', 'Defiant': 'Sisko'}"
      ]
     },
     "execution_count": 31,
     "metadata": {},
     "output_type": "execute_result"
    }
   ],
   "source": [
    "captains"
   ]
  },
  {
   "cell_type": "code",
   "execution_count": null,
   "id": "9e5b2552",
   "metadata": {},
   "outputs": [],
   "source": [
    "# Regular Expression: \n",
    "\n",
    "Regular Expression is a powerful tools for pattern matching and text manipulation, they provide a concise and flexible \n",
    "way to search, extract and manipulate string of text based on specific patterns.\n",
    "\n",
    "However, Regular expression can be complex and tricky to work with, especially for complex pattern. it essential to understand\n",
    "the syntax and behaviour of regular expression before using them. Python re modules provides a set of functions and methods\n",
    "to work with regular expression such as search(), match(), findall(), and sub() which make it easier to leverage their\n",
    "power within your Python code.\n",
    "\n",
    "Also Regex are instrumental in extracting information from text such as long files, spreadsheet, or even textual documents.\n",
    "Regex are used in various task such as data preprocessing rule based information minning system, pattern matching, text feature \n",
    "engineering, web scraping, data extraction etc.\n",
    "\n",
    "for example:\n",
    "Searching and replacing text in files.\n",
    "Validating text input, such as password and email address.\n",
    "Rename a hundred files at a time, for example you can change the extension of all files using a RegEx patterns.\n",
    "\n",
    "functions: Findall--- returns a list containing all matches search --- returns a match objects if there is a match anywhere\n",
    "\n",
    "in the string split. Returns a list where the string has been split at each match.\n",
    "\n",
    "substitute --- Replaces one or many matches with a string\n",
    "\n",
    "Findall --- matching a specific word\n",
    "\n",
    "\n",
    "findall\n",
    "search\n",
    "split\n",
    "substitute\n"
   ]
  },
  {
   "cell_type": "code",
   "execution_count": null,
   "id": "61d05609",
   "metadata": {},
   "outputs": [],
   "source": [
    "# FindAll"
   ]
  },
  {
   "cell_type": "code",
   "execution_count": 34,
   "id": "6e7497aa",
   "metadata": {},
   "outputs": [
    {
     "name": "stdout",
     "output_type": "stream",
     "text": [
      "['Data science', 'Data science']\n"
     ]
    }
   ],
   "source": [
    "import re\n",
    "\n",
    "pattern = 'Data science'\n",
    "text = 'Data science is a stream and it is a part of AI you can solve many complex problem using Data science'\n",
    "\n",
    "\n",
    "matches = re.findall(pattern,text)\n",
    "\n",
    "print(matches)"
   ]
  },
  {
   "cell_type": "code",
   "execution_count": 35,
   "id": "14c6fd32",
   "metadata": {},
   "outputs": [
    {
     "data": {
      "text/plain": [
       "2"
      ]
     },
     "execution_count": 35,
     "metadata": {},
     "output_type": "execute_result"
    }
   ],
   "source": [
    "len(matches)"
   ]
  },
  {
   "cell_type": "code",
   "execution_count": null,
   "id": "3df5bee2",
   "metadata": {},
   "outputs": [],
   "source": [
    "Extracting digit from a string:\n",
    "\n",
    "This code finds all sequences of digit within the text it will print ['123', '456']."
   ]
  },
  {
   "cell_type": "code",
   "execution_count": 36,
   "id": "1c2a7c42",
   "metadata": {},
   "outputs": [
    {
     "name": "stdout",
     "output_type": "stream",
     "text": [
      "['123', '456']\n"
     ]
    }
   ],
   "source": [
    "pattern = '\\d+'\n",
    "text = 'There are 123 apple and 456 oranges.'\n",
    "\n",
    "matches = re.findall(pattern,text)\n",
    "\n",
    "print(matches)"
   ]
  },
  {
   "cell_type": "code",
   "execution_count": 37,
   "id": "ac293d24",
   "metadata": {},
   "outputs": [
    {
     "name": "stdout",
     "output_type": "stream",
     "text": [
      "['50']\n",
      "['60']\n",
      "['150']\n"
     ]
    }
   ],
   "source": [
    "# Extracting digits from a lsit of string\n",
    "price = ['Apple costs Rs 50', 'Rs 60 for each pineapple', 'Rs 150 per watermelon']\n",
    "for msg in price:\n",
    "    matches = re.findall('\\d+', msg)\n",
    "    print(matches)"
   ]
  },
  {
   "cell_type": "code",
   "execution_count": null,
   "id": "f424389b",
   "metadata": {},
   "outputs": [],
   "source": [
    "# Search"
   ]
  },
  {
   "cell_type": "code",
   "execution_count": 38,
   "id": "c82c92f4",
   "metadata": {},
   "outputs": [
    {
     "name": "stdout",
     "output_type": "stream",
     "text": [
      "<re.Match object; span=(0, 5), match='india'>\n"
     ]
    }
   ],
   "source": [
    "text = 'india china usa'\n",
    "x = re.search('india',text)    # it will give 'india' starting index and ending index (0,5)\n",
    "\n",
    "print(x)"
   ]
  },
  {
   "cell_type": "code",
   "execution_count": 39,
   "id": "6fa5b624",
   "metadata": {},
   "outputs": [
    {
     "name": "stdout",
     "output_type": "stream",
     "text": [
      "None\n",
      "None\n",
      "<re.Match object; span=(11, 17), match='banana'>\n",
      "<re.Match object; span=(64, 70), match='banana'>\n",
      "None\n"
     ]
    }
   ],
   "source": [
    "msges = ['Bananas are not only very delicious pieces of fruit',\n",
    "        'they are also super healthy.',\n",
    "        'Eating two bananas a day can do wonders for your health',\n",
    "        'for example. but did you ever think of sticking a needle into a banana? probably not.',\n",
    "        'but you should, because it is super handy!']\n",
    "\n",
    "for msg in msges:\n",
    "    search = re.search('banana',msg)\n",
    "    print(search)"
   ]
  },
  {
   "cell_type": "code",
   "execution_count": 40,
   "id": "5de9d6f8",
   "metadata": {},
   "outputs": [
    {
     "name": "stdout",
     "output_type": "stream",
     "text": [
      "<re.Match object; span=(0, 28), match='This product is really Great'>\n"
     ]
    }
   ],
   "source": [
    "# msg1 = 'This product is really great'\n",
    "# msg2 = 'This product is really great right'      # starting should be 'This' and ending 'Great'\n",
    "\n",
    "msg1 = 'This product is really Great'\n",
    "\n",
    "search = re.search('^This.*Great$', msg1)\n",
    "\n",
    "print(search)"
   ]
  },
  {
   "cell_type": "code",
   "execution_count": null,
   "id": "fd9d8ea4",
   "metadata": {},
   "outputs": [],
   "source": [
    "#Split"
   ]
  },
  {
   "cell_type": "code",
   "execution_count": 41,
   "id": "ec90e7aa",
   "metadata": {},
   "outputs": [
    {
     "name": "stdout",
     "output_type": "stream",
     "text": [
      "['India', 'is', 'a', 'beautiful', 'country']\n"
     ]
    }
   ],
   "source": [
    "# split at each white-space charecter(\\s is split by space)\n",
    "text = 'India is a beautiful country'\n",
    "\n",
    "x = re.split('\\s', text)\n",
    "\n",
    "print(x)"
   ]
  },
  {
   "cell_type": "code",
   "execution_count": 42,
   "id": "77ef9fa6",
   "metadata": {},
   "outputs": [
    {
     "name": "stdout",
     "output_type": "stream",
     "text": [
      "['How', 'is', 'this possible']\n"
     ]
    }
   ],
   "source": [
    "# start splitting by position\n",
    "splitbyposition = 'How is this possible'\n",
    "x = re.split('\\s', splitbyposition, 2)   # split untill index 2\n",
    "\n",
    "print(x)"
   ]
  },
  {
   "cell_type": "code",
   "execution_count": null,
   "id": "478a5462",
   "metadata": {},
   "outputs": [],
   "source": [
    "# Substitute"
   ]
  },
  {
   "cell_type": "code",
   "execution_count": 43,
   "id": "ee742c3b",
   "metadata": {},
   "outputs": [
    {
     "name": "stdout",
     "output_type": "stream",
     "text": [
      "This&function&replaces&spaces&by&assigned&char\n"
     ]
    }
   ],
   "source": [
    "sub = 'This function replaces spaces by assigned char'\n",
    "x = re.sub('\\s', '&', sub)\n",
    "\n",
    "print(x)"
   ]
  },
  {
   "cell_type": "code",
   "execution_count": 44,
   "id": "0eb8cb92",
   "metadata": {},
   "outputs": [
    {
     "name": "stdout",
     "output_type": "stream",
     "text": [
      "This item costs $ 2500\n"
     ]
    }
   ],
   "source": [
    "y = 'Rs'\n",
    "z = r'[oe]'\n",
    "\n",
    "text = 'This item costs Rs 2500'\n",
    " \n",
    "replacetext = re.sub(y, '$', text)\n",
    "\n",
    "print(replacetext)"
   ]
  },
  {
   "cell_type": "code",
   "execution_count": 45,
   "id": "d55299cf",
   "metadata": {},
   "outputs": [
    {
     "name": "stdout",
     "output_type": "stream",
     "text": [
      "This it$m c$sts Rs 2500\n"
     ]
    }
   ],
   "source": [
    "y = 'Rs'\n",
    "z = r'[oe]'\n",
    "\n",
    "text = 'This item costs Rs 2500'\n",
    "\n",
    "replacetext = re.sub(z, '$', text)\n",
    "\n",
    "print(replacetext)"
   ]
  },
  {
   "cell_type": "code",
   "execution_count": 46,
   "id": "3104596f",
   "metadata": {},
   "outputs": [],
   "source": [
    "import re"
   ]
  },
  {
   "cell_type": "code",
   "execution_count": 47,
   "id": "33685f85",
   "metadata": {},
   "outputs": [],
   "source": [
    "import regex as re"
   ]
  },
  {
   "cell_type": "code",
   "execution_count": 48,
   "id": "2ccb49da",
   "metadata": {},
   "outputs": [
    {
     "name": "stdout",
     "output_type": "stream",
     "text": [
      "Help on package regex:\n",
      "\n",
      "NAME\n",
      "    regex - Support for regular expressions (RE).\n",
      "\n",
      "DESCRIPTION\n",
      "    This module provides regular expression matching operations similar to those\n",
      "    found in Perl. It supports both 8-bit and Unicode strings; both the pattern and\n",
      "    the strings being processed can contain null bytes and characters outside the\n",
      "    US ASCII range.\n",
      "    \n",
      "    Regular expressions can contain both special and ordinary characters. Most\n",
      "    ordinary characters, like \"A\", \"a\", or \"0\", are the simplest regular\n",
      "    expressions; they simply match themselves. You can concatenate ordinary\n",
      "    characters, so last matches the string 'last'.\n",
      "    \n",
      "    There are a few differences between the old (legacy) behaviour and the new\n",
      "    (enhanced) behaviour, which are indicated by VERSION0 or VERSION1.\n",
      "    \n",
      "    The special characters are:\n",
      "        \".\"                 Matches any character except a newline.\n",
      "        \"^\"                 Matches the start of the string.\n",
      "        \"$\"                 Matches the end of the string or just before the\n",
      "                            newline at the end of the string.\n",
      "        \"*\"                 Matches 0 or more (greedy) repetitions of the preceding\n",
      "                            RE. Greedy means that it will match as many repetitions\n",
      "                            as possible.\n",
      "        \"+\"                 Matches 1 or more (greedy) repetitions of the preceding\n",
      "                            RE.\n",
      "        \"?\"                 Matches 0 or 1 (greedy) of the preceding RE.\n",
      "        *?,+?,??            Non-greedy versions of the previous three special\n",
      "                            characters.\n",
      "        *+,++,?+            Possessive versions of the previous three special\n",
      "                            characters.\n",
      "        {m,n}               Matches from m to n repetitions of the preceding RE.\n",
      "        {m,n}?              Non-greedy version of the above.\n",
      "        {m,n}+              Possessive version of the above.\n",
      "        {...}               Fuzzy matching constraints.\n",
      "        \"\\\\\"                Either escapes special characters or signals a special\n",
      "                            sequence.\n",
      "        [...]               Indicates a set of characters. A \"^\" as the first\n",
      "                            character indicates a complementing set.\n",
      "        \"|\"                 A|B, creates an RE that will match either A or B.\n",
      "        (...)               Matches the RE inside the parentheses. The contents are\n",
      "                            captured and can be retrieved or matched later in the\n",
      "                            string.\n",
      "        (?flags-flags)      VERSION1: Sets/clears the flags for the remainder of\n",
      "                            the group or pattern; VERSION0: Sets the flags for the\n",
      "                            entire pattern.\n",
      "        (?:...)             Non-capturing version of regular parentheses.\n",
      "        (?>...)             Atomic non-capturing version of regular parentheses.\n",
      "        (?flags-flags:...)  Non-capturing version of regular parentheses with local\n",
      "                            flags.\n",
      "        (?P<name>...)       The substring matched by the group is accessible by\n",
      "                            name.\n",
      "        (?<name>...)        The substring matched by the group is accessible by\n",
      "                            name.\n",
      "        (?P=name)           Matches the text matched earlier by the group named\n",
      "                            name.\n",
      "        (?#...)             A comment; ignored.\n",
      "        (?=...)             Matches if ... matches next, but doesn't consume the\n",
      "                            string.\n",
      "        (?!...)             Matches if ... doesn't match next.\n",
      "        (?<=...)            Matches if preceded by ....\n",
      "        (?<!...)            Matches if not preceded by ....\n",
      "        (?(id)yes|no)       Matches yes pattern if group id matched, the (optional)\n",
      "                            no pattern otherwise.\n",
      "        (?(DEFINE)...)      If there's no group called \"DEFINE\", then ... will be\n",
      "                            ignored, but any group definitions will be available.\n",
      "        (?|...|...)         (?|A|B), creates an RE that will match either A or B,\n",
      "                            but reuses capture group numbers across the\n",
      "                            alternatives.\n",
      "        (*FAIL)             Forces matching to fail, which means immediate\n",
      "                            backtracking.\n",
      "        (*F)                Abbreviation for (*FAIL).\n",
      "        (*PRUNE)            Discards the current backtracking information. Its\n",
      "                            effect doesn't extend outside an atomic group or a\n",
      "                            lookaround.\n",
      "        (*SKIP)             Similar to (*PRUNE), except that it also sets where in\n",
      "                            the text the next attempt at matching the entire\n",
      "                            pattern will start. Its effect doesn't extend outside\n",
      "                            an atomic group or a lookaround.\n",
      "    \n",
      "    The fuzzy matching constraints are: \"i\" to permit insertions, \"d\" to permit\n",
      "    deletions, \"s\" to permit substitutions, \"e\" to permit any of these. Limits are\n",
      "    optional with \"<=\" and \"<\". If any type of error is provided then any type not\n",
      "    provided is not permitted.\n",
      "    \n",
      "    A cost equation may be provided.\n",
      "    \n",
      "    Examples:\n",
      "        (?:fuzzy){i<=2}\n",
      "        (?:fuzzy){i<=1,s<=2,d<=1,1i+1s+1d<3}\n",
      "    \n",
      "    VERSION1: Set operators are supported, and a set can include nested sets. The\n",
      "    set operators, in order of increasing precedence, are:\n",
      "        ||  Set union (\"x||y\" means \"x or y\").\n",
      "        ~~  (double tilde) Symmetric set difference (\"x~~y\" means \"x or y, but not\n",
      "            both\").\n",
      "        &&  Set intersection (\"x&&y\" means \"x and y\").\n",
      "        --  (double dash) Set difference (\"x--y\" means \"x but not y\").\n",
      "    \n",
      "    Implicit union, ie, simple juxtaposition like in [ab], has the highest\n",
      "    precedence.\n",
      "    \n",
      "    VERSION0 and VERSION1:\n",
      "    The special sequences consist of \"\\\\\" and a character from the list below. If\n",
      "    the ordinary character is not on the list, then the resulting RE will match the\n",
      "    second character.\n",
      "        \\number         Matches the contents of the group of the same number if\n",
      "                        number is no more than 2 digits, otherwise the character\n",
      "                        with the 3-digit octal code.\n",
      "        \\a              Matches the bell character.\n",
      "        \\A              Matches only at the start of the string.\n",
      "        \\b              Matches the empty string, but only at the start or end of a\n",
      "                        word.\n",
      "        \\B              Matches the empty string, but not at the start or end of a\n",
      "                        word.\n",
      "        \\d              Matches any decimal digit; equivalent to the set [0-9] when\n",
      "                        matching a bytestring or a Unicode string with the ASCII\n",
      "                        flag, or the whole range of Unicode digits when matching a\n",
      "                        Unicode string.\n",
      "        \\D              Matches any non-digit character; equivalent to [^\\d].\n",
      "        \\f              Matches the formfeed character.\n",
      "        \\g<name>        Matches the text matched by the group named name.\n",
      "        \\G              Matches the empty string, but only at the position where\n",
      "                        the search started.\n",
      "        \\h              Matches horizontal whitespace.\n",
      "        \\K              Keeps only what follows for the entire match.\n",
      "        \\L<name>        Named list. The list is provided as a keyword argument.\n",
      "        \\m              Matches the empty string, but only at the start of a word.\n",
      "        \\M              Matches the empty string, but only at the end of a word.\n",
      "        \\n              Matches the newline character.\n",
      "        \\N{name}        Matches the named character.\n",
      "        \\p{name=value}  Matches the character if its property has the specified\n",
      "                        value.\n",
      "        \\P{name=value}  Matches the character if its property hasn't the specified\n",
      "                        value.\n",
      "        \\r              Matches the carriage-return character.\n",
      "        \\s              Matches any whitespace character; equivalent to\n",
      "                        [ \\t\\n\\r\\f\\v].\n",
      "        \\S              Matches any non-whitespace character; equivalent to [^\\s].\n",
      "        \\t              Matches the tab character.\n",
      "        \\uXXXX          Matches the Unicode codepoint with 4-digit hex code XXXX.\n",
      "        \\UXXXXXXXX      Matches the Unicode codepoint with 8-digit hex code\n",
      "                        XXXXXXXX.\n",
      "        \\v              Matches the vertical tab character.\n",
      "        \\w              Matches any alphanumeric character; equivalent to\n",
      "                        [a-zA-Z0-9_] when matching a bytestring or a Unicode string\n",
      "                        with the ASCII flag, or the whole range of Unicode\n",
      "                        alphanumeric characters (letters plus digits plus\n",
      "                        underscore) when matching a Unicode string. With LOCALE, it\n",
      "                        will match the set [0-9_] plus characters defined as\n",
      "                        letters for the current locale.\n",
      "        \\W              Matches the complement of \\w; equivalent to [^\\w].\n",
      "        \\xXX            Matches the character with 2-digit hex code XX.\n",
      "        \\X              Matches a grapheme.\n",
      "        \\Z              Matches only at the end of the string.\n",
      "        \\\\              Matches a literal backslash.\n",
      "    \n",
      "    This module exports the following functions:\n",
      "        match      Match a regular expression pattern at the beginning of a string.\n",
      "        fullmatch  Match a regular expression pattern against all of a string.\n",
      "        search     Search a string for the presence of a pattern.\n",
      "        sub        Substitute occurrences of a pattern found in a string using a\n",
      "                   template string.\n",
      "        subf       Substitute occurrences of a pattern found in a string using a\n",
      "                   format string.\n",
      "        subn       Same as sub, but also return the number of substitutions made.\n",
      "        subfn      Same as subf, but also return the number of substitutions made.\n",
      "        split      Split a string by the occurrences of a pattern. VERSION1: will\n",
      "                   split at zero-width match; VERSION0: won't split at zero-width\n",
      "                   match.\n",
      "        splititer  Return an iterator yielding the parts of a split string.\n",
      "        findall    Find all occurrences of a pattern in a string.\n",
      "        finditer   Return an iterator yielding a match object for each match.\n",
      "        compile    Compile a pattern into a Pattern object.\n",
      "        purge      Clear the regular expression cache.\n",
      "        escape     Backslash all non-alphanumerics or special characters in a\n",
      "                   string.\n",
      "    \n",
      "    Most of the functions support a concurrent parameter: if True, the GIL will be\n",
      "    released during matching, allowing other Python threads to run concurrently. If\n",
      "    the string changes during matching, the behaviour is undefined. This parameter\n",
      "    is not needed when working on the builtin (immutable) string classes.\n",
      "    \n",
      "    Some of the functions in this module take flags as optional parameters. Most of\n",
      "    these flags can also be set within an RE:\n",
      "        A   a   ASCII         Make \\w, \\W, \\b, \\B, \\d, and \\D match the\n",
      "                              corresponding ASCII character categories. Default\n",
      "                              when matching a bytestring.\n",
      "        B   b   BESTMATCH     Find the best fuzzy match (default is first).\n",
      "        D       DEBUG         Print the parsed pattern.\n",
      "        E   e   ENHANCEMATCH  Attempt to improve the fit after finding the first\n",
      "                              fuzzy match.\n",
      "        F   f   FULLCASE      Use full case-folding when performing\n",
      "                              case-insensitive matching in Unicode.\n",
      "        I   i   IGNORECASE    Perform case-insensitive matching.\n",
      "        L   L   LOCALE        Make \\w, \\W, \\b, \\B, \\d, and \\D dependent on the\n",
      "                              current locale. (One byte per character only.)\n",
      "        M   m   MULTILINE     \"^\" matches the beginning of lines (after a newline)\n",
      "                              as well as the string. \"$\" matches the end of lines\n",
      "                              (before a newline) as well as the end of the string.\n",
      "        P   p   POSIX         Perform POSIX-standard matching (leftmost longest).\n",
      "        R   r   REVERSE       Searches backwards.\n",
      "        S   s   DOTALL        \".\" matches any character at all, including the\n",
      "                              newline.\n",
      "        U   u   UNICODE       Make \\w, \\W, \\b, \\B, \\d, and \\D dependent on the\n",
      "                              Unicode locale. Default when matching a Unicode\n",
      "                              string.\n",
      "        V0  V0  VERSION0      Turn on the old legacy behaviour.\n",
      "        V1  V1  VERSION1      Turn on the new enhanced behaviour. This flag\n",
      "                              includes the FULLCASE flag.\n",
      "        W   w   WORD          Make \\b and \\B work with default Unicode word breaks\n",
      "                              and make \".\", \"^\" and \"$\" work with Unicode line\n",
      "                              breaks.\n",
      "        X   x   VERBOSE       Ignore whitespace and comments for nicer looking REs.\n",
      "    \n",
      "    This module also defines an exception 'error'.\n",
      "\n",
      "PACKAGE CONTENTS\n",
      "    _regex\n",
      "    _regex_core\n",
      "    regex\n",
      "    test_regex\n",
      "\n",
      "CLASSES\n",
      "    builtins.Exception(builtins.BaseException)\n",
      "        regex._regex_core.error\n",
      "    builtins.object\n",
      "        _regex.Match\n",
      "        _regex.Pattern\n",
      "        regex._regex_core.Scanner\n",
      "    enum.IntFlag(builtins.int, enum.Flag)\n",
      "        regex._regex_core.RegexFlag\n",
      "    \n",
      "    class Match(builtins.object)\n",
      "     |  Match object\n",
      "     |  \n",
      "     |  Methods defined here:\n",
      "     |  \n",
      "     |  __copy__(...)\n",
      "     |  \n",
      "     |  __deepcopy__(...)\n",
      "     |  \n",
      "     |  __getitem__(...)\n",
      "     |  \n",
      "     |  __len__(self, /)\n",
      "     |      Return len(self).\n",
      "     |  \n",
      "     |  __repr__(self, /)\n",
      "     |      Return repr(self).\n",
      "     |  \n",
      "     |  captures(...)\n",
      "     |      captures([group1, ...]) --> list of strings or tuple of list of strings.\n",
      "     |      Return the captures of one or more subgroups of the match.  If there is a\n",
      "     |      single argument, the result is a list of strings; if there are multiple\n",
      "     |      arguments, the result is a tuple of lists with one item per argument; if\n",
      "     |      there are no arguments, the captures of the whole match is returned.  Group\n",
      "     |      0 is the whole match.\n",
      "     |  \n",
      "     |  capturesdict(...)\n",
      "     |      capturesdict() --> dict.\n",
      "     |      Return a dictionary containing the captures of all the named subgroups of the\n",
      "     |      match, keyed by the subgroup name.\n",
      "     |  \n",
      "     |  detach_string(...)\n",
      "     |      detach_string()\n",
      "     |      Detaches the target string from the match object. The 'string' attribute\n",
      "     |      will become None.\n",
      "     |  \n",
      "     |  end(...)\n",
      "     |      end([group1, ...]) --> int or tuple of ints.\n",
      "     |      Return the index of the end of one or more subgroups of the match.  If there\n",
      "     |      is a single argument, the result is an index, or -1 if the group did not\n",
      "     |      contribute to the match; if there are multiple arguments, the result is a\n",
      "     |      tuple with one item per argument; if there are no arguments, the index of\n",
      "     |      the end of the whole match is returned.  Group 0 is the whole match.\n",
      "     |  \n",
      "     |  ends(...)\n",
      "     |      ends([group1, ...]) --> list of ints or tuple of list of ints.\n",
      "     |      Return the indices of the ends of the captures of one or more subgroups of\n",
      "     |      the match.  If there is a single argument, the result is a list of indices;\n",
      "     |      if there are multiple arguments, the result is a tuple of lists with one\n",
      "     |      item per argument; if there are no arguments, the indices of the ends of the\n",
      "     |      captures of the whole match is returned.  Group 0 is the whole match.\n",
      "     |  \n",
      "     |  expand(...)\n",
      "     |      expand(template) --> string.\n",
      "     |      Return the string obtained by doing backslash substitution on the template,\n",
      "     |      as done by the sub() method.\n",
      "     |  \n",
      "     |  expandf(...)\n",
      "     |      expandf(format) --> string.\n",
      "     |      Return the string obtained by using the format, as done by the subf()\n",
      "     |      method.\n",
      "     |  \n",
      "     |  group(...)\n",
      "     |      group([group1, ...]) --> string or tuple of strings.\n",
      "     |      Return one or more subgroups of the match.  If there is a single argument,\n",
      "     |      the result is a single string, or None if the group did not contribute to\n",
      "     |      the match; if there are multiple arguments, the result is a tuple with one\n",
      "     |      item per argument; if there are no arguments, the whole match is returned.\n",
      "     |      Group 0 is the whole match.\n",
      "     |  \n",
      "     |  groupdict(...)\n",
      "     |      groupdict(default=None) --> dict.\n",
      "     |      Return a dictionary containing all the named subgroups of the match, keyed\n",
      "     |      by the subgroup name.  The argument is the value to be given for groups that\n",
      "     |      did not participate in the match.\n",
      "     |  \n",
      "     |  groups(...)\n",
      "     |      groups(default=None) --> tuple of strings.\n",
      "     |      Return a tuple containing all the subgroups of the match.  The argument is\n",
      "     |      the default for groups that did not participate in the match.\n",
      "     |  \n",
      "     |  span(...)\n",
      "     |      span([group1, ...]) --> 2-tuple of int or tuple of 2-tuple of ints.\n",
      "     |      Return the span (a 2-tuple of the indices of the start and end) of one or\n",
      "     |      more subgroups of the match.  If there is a single argument, the result is a\n",
      "     |      span, or (-1, -1) if the group did not contribute to the match; if there are\n",
      "     |      multiple arguments, the result is a tuple with one item per argument; if\n",
      "     |      there are no arguments, the span of the whole match is returned.  Group 0 is\n",
      "     |      the whole match.\n",
      "     |  \n",
      "     |  spans(...)\n",
      "     |      spans([group1, ...]) --> list of 2-tuple of ints or tuple of list of 2-tuple of ints.\n",
      "     |      Return the spans (a 2-tuple of the indices of the start and end) of the\n",
      "     |      captures of one or more subgroups of the match.  If there is a single\n",
      "     |      argument, the result is a list of spans; if there are multiple arguments,\n",
      "     |      the result is a tuple of lists with one item per argument; if there are no\n",
      "     |      arguments, the spans of the captures of the whole match is returned.  Group\n",
      "     |      0 is the whole match.\n",
      "     |  \n",
      "     |  start(...)\n",
      "     |      start([group1, ...]) --> int or tuple of ints.\n",
      "     |      Return the index of the start of one or more subgroups of the match.  If\n",
      "     |      there is a single argument, the result is an index, or -1 if the group did\n",
      "     |      not contribute to the match; if there are multiple arguments, the result is\n",
      "     |      a tuple with one item per argument; if there are no arguments, the index of\n",
      "     |      the start of the whole match is returned.  Group 0 is the whole match.\n",
      "     |  \n",
      "     |  starts(...)\n",
      "     |      starts([group1, ...]) --> list of ints or tuple of list of ints.\n",
      "     |      Return the indices of the starts of the captures of one or more subgroups of\n",
      "     |      the match.  If there is a single argument, the result is a list of indices;\n",
      "     |      if there are multiple arguments, the result is a tuple of lists with one\n",
      "     |      item per argument; if there are no arguments, the indices of the starts of\n",
      "     |      the captures of the whole match is returned.  Group 0 is the whole match.\n",
      "     |  \n",
      "     |  ----------------------------------------------------------------------\n",
      "     |  Class methods defined here:\n",
      "     |  \n",
      "     |  __class_getitem__(...) from builtins.type\n",
      "     |      See PEP 585\n",
      "     |  \n",
      "     |  ----------------------------------------------------------------------\n",
      "     |  Data descriptors defined here:\n",
      "     |  \n",
      "     |  endpos\n",
      "     |      The final position beyond which the regex engine won't search.\n",
      "     |  \n",
      "     |  fuzzy_changes\n",
      "     |      A tuple of the positions of the substitutions, insertions and deletions.\n",
      "     |  \n",
      "     |  fuzzy_counts\n",
      "     |      A tuple of the number of substitutions, insertions and deletions.\n",
      "     |  \n",
      "     |  lastgroup\n",
      "     |      The name of the last matched capturing group, or None.\n",
      "     |  \n",
      "     |  lastindex\n",
      "     |      The group number of the last matched capturing group, or None.\n",
      "     |  \n",
      "     |  partial\n",
      "     |      Whether it's a partial match.\n",
      "     |  \n",
      "     |  pos\n",
      "     |      The position at which the regex engine starting searching.\n",
      "     |  \n",
      "     |  re\n",
      "     |      The regex object that produced this match object.\n",
      "     |  \n",
      "     |  regs\n",
      "     |      A tuple of the spans of the capturing groups.\n",
      "     |  \n",
      "     |  string\n",
      "     |      The string that was searched, or None if it has been detached.\n",
      "    \n",
      "    class Pattern(builtins.object)\n",
      "     |  Compiled regex object\n",
      "     |  \n",
      "     |  Methods defined here:\n",
      "     |  \n",
      "     |  __copy__(...)\n",
      "     |  \n",
      "     |  __deepcopy__(...)\n",
      "     |  \n",
      "     |  __repr__(self, /)\n",
      "     |      Return repr(self).\n",
      "     |  \n",
      "     |  __sizeof__(...)\n",
      "     |      Size of object in memory, in bytes.\n",
      "     |  \n",
      "     |  findall(...)\n",
      "     |      findall(string, pos=None, endpos=None, overlapped=False, concurrent=None, timeout=None) --> list.\n",
      "     |      Return a list of all matches of pattern in string.  The matches may be\n",
      "     |      overlapped if overlapped is True.\n",
      "     |  \n",
      "     |  finditer(...)\n",
      "     |      finditer(string, pos=None, endpos=None, overlapped=False, concurrent=None, timeout=None) --> iterator.\n",
      "     |      Return an iterator over all matches for the RE pattern in string.  The\n",
      "     |      matches may be overlapped if overlapped is True.  For each match, the\n",
      "     |      iterator returns a MatchObject.\n",
      "     |  \n",
      "     |  fullmatch(...)\n",
      "     |      fullmatch(string, pos=None, endpos=None, concurrent=None, timeout=None) --> MatchObject or None.\n",
      "     |      Match zero or more characters against all of the string.\n",
      "     |  \n",
      "     |  match(...)\n",
      "     |      match(string, pos=None, endpos=None, concurrent=None, timeout=None) --> MatchObject or None.\n",
      "     |      Match zero or more characters at the beginning of the string.\n",
      "     |  \n",
      "     |  scanner(...)\n",
      "     |      scanner(string, pos=None, endpos=None, overlapped=False, concurrent=None, timeout=None) --> scanner.\n",
      "     |      Return an scanner for the RE pattern in string.  The matches may be overlapped\n",
      "     |      if overlapped is True.\n",
      "     |  \n",
      "     |  search(...)\n",
      "     |      search(string, pos=None, endpos=None, concurrent=None, timeout=None) --> MatchObject or None.\n",
      "     |      Search through string looking for a match, and return a corresponding\n",
      "     |      match object instance.  Return None if no match is found.\n",
      "     |  \n",
      "     |  split(...)\n",
      "     |      split(string, maxsplit=0, concurrent=None, timeout=None) --> list.\n",
      "     |      Split string by the occurrences of pattern.\n",
      "     |  \n",
      "     |  splititer(...)\n",
      "     |      splititer(string, maxsplit=0, concurrent=None, timeout=None) --> iterator.\n",
      "     |      Return an iterator yielding the parts of a split string.\n",
      "     |  \n",
      "     |  sub(...)\n",
      "     |      sub(repl, string, count=0, flags=0, pos=None, endpos=None, concurrent=None, timeout=None) --> newstring\n",
      "     |      Return the string obtained by replacing the leftmost (or rightmost with a\n",
      "     |      reverse pattern) non-overlapping occurrences of pattern in string by the\n",
      "     |      replacement repl.\n",
      "     |  \n",
      "     |  subf(...)\n",
      "     |      subf(format, string, count=0, flags=0, pos=None, endpos=None, concurrent=None, timeout=None) --> newstring\n",
      "     |      Return the string obtained by replacing the leftmost (or rightmost with a\n",
      "     |      reverse pattern) non-overlapping occurrences of pattern in string by the\n",
      "     |      replacement format.\n",
      "     |  \n",
      "     |  subfn(...)\n",
      "     |      subfn(format, string, count=0, flags=0, pos=None, endpos=None, concurrent=None, timeout=None) --> (newstring, number of subs)\n",
      "     |      Return the tuple (new_string, number_of_subs_made) found by replacing the\n",
      "     |      leftmost (or rightmost with a reverse pattern) non-overlapping occurrences\n",
      "     |      of pattern with the replacement format.\n",
      "     |  \n",
      "     |  subn(...)\n",
      "     |      subn(repl, string, count=0, flags=0, pos=None, endpos=None, concurrent=None, timeout=None) --> (newstring, number of subs)\n",
      "     |      Return the tuple (new_string, number_of_subs_made) found by replacing the\n",
      "     |      leftmost (or rightmost with a reverse pattern) non-overlapping occurrences\n",
      "     |      of pattern with the replacement repl.\n",
      "     |  \n",
      "     |  ----------------------------------------------------------------------\n",
      "     |  Class methods defined here:\n",
      "     |  \n",
      "     |  __class_getitem__(...) from builtins.type\n",
      "     |      See PEP 585\n",
      "     |  \n",
      "     |  ----------------------------------------------------------------------\n",
      "     |  Data descriptors defined here:\n",
      "     |  \n",
      "     |  flags\n",
      "     |      The regex matching flags.\n",
      "     |  \n",
      "     |  groupindex\n",
      "     |      A dictionary mapping group names to group numbers.\n",
      "     |  \n",
      "     |  groups\n",
      "     |      The number of capturing groups in the pattern.\n",
      "     |  \n",
      "     |  named_lists\n",
      "     |      The named lists used by the regex.\n",
      "     |  \n",
      "     |  pattern\n",
      "     |      The pattern string from which the regex object was compiled.\n",
      "    \n",
      "    class RegexFlag(enum.IntFlag)\n",
      "     |  RegexFlag(value, names=None, *, module=None, qualname=None, type=None, start=1)\n",
      "     |  \n",
      "     |  An enumeration.\n",
      "     |  \n",
      "     |  Method resolution order:\n",
      "     |      RegexFlag\n",
      "     |      enum.IntFlag\n",
      "     |      builtins.int\n",
      "     |      enum.Flag\n",
      "     |      enum.Enum\n",
      "     |      builtins.object\n",
      "     |  \n",
      "     |  Data and other attributes defined here:\n",
      "     |  \n",
      "     |  A = regex.A\n",
      "     |  \n",
      "     |  B = regex.B\n",
      "     |  \n",
      "     |  D = regex.D\n",
      "     |  \n",
      "     |  E = regex.E\n",
      "     |  \n",
      "     |  F = regex.F\n",
      "     |  \n",
      "     |  I = regex.I\n",
      "     |  \n",
      "     |  L = regex.L\n",
      "     |  \n",
      "     |  M = regex.M\n",
      "     |  \n",
      "     |  P = regex.P\n",
      "     |  \n",
      "     |  R = regex.R\n",
      "     |  \n",
      "     |  S = regex.S\n",
      "     |  \n",
      "     |  T = regex.T\n",
      "     |  \n",
      "     |  U = regex.U\n",
      "     |  \n",
      "     |  V0 = regex.V0\n",
      "     |  \n",
      "     |  V1 = regex.V1\n",
      "     |  \n",
      "     |  W = regex.W\n",
      "     |  \n",
      "     |  X = regex.X\n",
      "     |  \n",
      "     |  ----------------------------------------------------------------------\n",
      "     |  Data descriptors inherited from enum.Enum:\n",
      "     |  \n",
      "     |  name\n",
      "     |      The name of the Enum member.\n",
      "     |  \n",
      "     |  value\n",
      "     |      The value of the Enum member.\n",
      "     |  \n",
      "     |  ----------------------------------------------------------------------\n",
      "     |  Readonly properties inherited from enum.EnumMeta:\n",
      "     |  \n",
      "     |  __members__\n",
      "     |      Returns a mapping of member name->value.\n",
      "     |      \n",
      "     |      This mapping lists all enum members, including aliases. Note that this\n",
      "     |      is a read-only view of the internal mapping.\n",
      "    \n",
      "    class Scanner(builtins.object)\n",
      "     |  Scanner(lexicon, flags=0)\n",
      "     |  \n",
      "     |  Methods defined here:\n",
      "     |  \n",
      "     |  __init__(self, lexicon, flags=0)\n",
      "     |      Initialize self.  See help(type(self)) for accurate signature.\n",
      "     |  \n",
      "     |  scan(self, string)\n",
      "     |  \n",
      "     |  ----------------------------------------------------------------------\n",
      "     |  Data descriptors defined here:\n",
      "     |  \n",
      "     |  __dict__\n",
      "     |      dictionary for instance variables (if defined)\n",
      "     |  \n",
      "     |  __weakref__\n",
      "     |      list of weak references to the object (if defined)\n",
      "    \n",
      "    class error(builtins.Exception)\n",
      "     |  error(message, pattern=None, pos=None)\n",
      "     |  \n",
      "     |  Exception raised for invalid regular expressions.\n",
      "     |  \n",
      "     |  Attributes:\n",
      "     |  \n",
      "     |      msg: The unformatted error message\n",
      "     |      pattern: The regular expression pattern\n",
      "     |      pos: The position in the pattern where compilation failed, or None\n",
      "     |      lineno: The line number where compilation failed, unless pos is None\n",
      "     |      colno: The column number where compilation failed, unless pos is None\n",
      "     |  \n",
      "     |  Method resolution order:\n",
      "     |      error\n",
      "     |      builtins.Exception\n",
      "     |      builtins.BaseException\n",
      "     |      builtins.object\n",
      "     |  \n",
      "     |  Methods defined here:\n",
      "     |  \n",
      "     |  __init__(self, message, pattern=None, pos=None)\n",
      "     |      Initialize self.  See help(type(self)) for accurate signature.\n",
      "     |  \n",
      "     |  ----------------------------------------------------------------------\n",
      "     |  Data descriptors defined here:\n",
      "     |  \n",
      "     |  __weakref__\n",
      "     |      list of weak references to the object (if defined)\n",
      "     |  \n",
      "     |  ----------------------------------------------------------------------\n",
      "     |  Static methods inherited from builtins.Exception:\n",
      "     |  \n",
      "     |  __new__(*args, **kwargs) from builtins.type\n",
      "     |      Create and return a new object.  See help(type) for accurate signature.\n",
      "     |  \n",
      "     |  ----------------------------------------------------------------------\n",
      "     |  Methods inherited from builtins.BaseException:\n",
      "     |  \n",
      "     |  __delattr__(self, name, /)\n",
      "     |      Implement delattr(self, name).\n",
      "     |  \n",
      "     |  __getattribute__(self, name, /)\n",
      "     |      Return getattr(self, name).\n",
      "     |  \n",
      "     |  __reduce__(...)\n",
      "     |      Helper for pickle.\n",
      "     |  \n",
      "     |  __repr__(self, /)\n",
      "     |      Return repr(self).\n",
      "     |  \n",
      "     |  __setattr__(self, name, value, /)\n",
      "     |      Implement setattr(self, name, value).\n",
      "     |  \n",
      "     |  __setstate__(...)\n",
      "     |  \n",
      "     |  __str__(self, /)\n",
      "     |      Return str(self).\n",
      "     |  \n",
      "     |  with_traceback(...)\n",
      "     |      Exception.with_traceback(tb) --\n",
      "     |      set self.__traceback__ to tb and return self.\n",
      "     |  \n",
      "     |  ----------------------------------------------------------------------\n",
      "     |  Data descriptors inherited from builtins.BaseException:\n",
      "     |  \n",
      "     |  __cause__\n",
      "     |      exception cause\n",
      "     |  \n",
      "     |  __context__\n",
      "     |      exception context\n",
      "     |  \n",
      "     |  __dict__\n",
      "     |  \n",
      "     |  __suppress_context__\n",
      "     |  \n",
      "     |  __traceback__\n",
      "     |  \n",
      "     |  args\n",
      "\n",
      "FUNCTIONS\n",
      "    Regex = compile(pattern, flags=0, ignore_unused=False, cache_pattern=None, **kwargs)\n",
      "        Compile a regular expression pattern, returning a pattern object.\n",
      "    \n",
      "    cache_all(value=True)\n",
      "        Sets whether to cache all patterns, even those are compiled explicitly.\n",
      "        Passing None has no effect, but returns the current setting.\n",
      "    \n",
      "    compile(pattern, flags=0, ignore_unused=False, cache_pattern=None, **kwargs)\n",
      "        Compile a regular expression pattern, returning a pattern object.\n",
      "    \n",
      "    escape(pattern, special_only=True, literal_spaces=False)\n",
      "        Escape a string for use as a literal in a pattern. If special_only is\n",
      "        True, escape only special characters, else escape all non-alphanumeric\n",
      "        characters. If literal_spaces is True, don't escape spaces.\n",
      "    \n",
      "    findall(pattern, string, flags=0, pos=None, endpos=None, overlapped=False, concurrent=None, timeout=None, ignore_unused=False, **kwargs)\n",
      "        Return a list of all matches in the string. The matches may be overlapped\n",
      "        if overlapped is True. If one or more groups are present in the pattern,\n",
      "        return a list of groups; this will be a list of tuples if the pattern has\n",
      "        more than one group. Empty matches are included in the result.\n",
      "    \n",
      "    finditer(pattern, string, flags=0, pos=None, endpos=None, overlapped=False, partial=False, concurrent=None, timeout=None, ignore_unused=False, **kwargs)\n",
      "        Return an iterator over all matches in the string. The matches may be\n",
      "        overlapped if overlapped is True. For each match, the iterator returns a\n",
      "        match object. Empty matches are included in the result.\n",
      "    \n",
      "    fullmatch(pattern, string, flags=0, pos=None, endpos=None, partial=False, concurrent=None, timeout=None, ignore_unused=False, **kwargs)\n",
      "        Try to apply the pattern against all of the string, returning a match\n",
      "        object, or None if no match was found.\n",
      "    \n",
      "    match(pattern, string, flags=0, pos=None, endpos=None, partial=False, concurrent=None, timeout=None, ignore_unused=False, **kwargs)\n",
      "        Try to apply the pattern at the start of the string, returning a match\n",
      "        object, or None if no match was found.\n",
      "    \n",
      "    purge()\n",
      "        Clear the regular expression cache\n",
      "    \n",
      "    search(pattern, string, flags=0, pos=None, endpos=None, partial=False, concurrent=None, timeout=None, ignore_unused=False, **kwargs)\n",
      "        Search through string looking for a match to the pattern, returning a\n",
      "        match object, or None if no match was found.\n",
      "    \n",
      "    split(pattern, string, maxsplit=0, flags=0, concurrent=None, timeout=None, ignore_unused=False, **kwargs)\n",
      "        Split the source string by the occurrences of the pattern, returning a\n",
      "        list containing the resulting substrings.  If capturing parentheses are used\n",
      "        in pattern, then the text of all groups in the pattern are also returned as\n",
      "        part of the resulting list.  If maxsplit is nonzero, at most maxsplit splits\n",
      "        occur, and the remainder of the string is returned as the final element of\n",
      "        the list.\n",
      "    \n",
      "    splititer(pattern, string, maxsplit=0, flags=0, concurrent=None, timeout=None, ignore_unused=False, **kwargs)\n",
      "        Return an iterator yielding the parts of a split string.\n",
      "    \n",
      "    sub(pattern, repl, string, count=0, flags=0, pos=None, endpos=None, concurrent=None, timeout=None, ignore_unused=False, **kwargs)\n",
      "        Return the string obtained by replacing the leftmost (or rightmost with a\n",
      "        reverse pattern) non-overlapping occurrences of the pattern in string by the\n",
      "        replacement repl. repl can be either a string or a callable; if a string,\n",
      "        backslash escapes in it are processed; if a callable, it's passed the match\n",
      "        object and must return a replacement string to be used.\n",
      "    \n",
      "    subf(pattern, format, string, count=0, flags=0, pos=None, endpos=None, concurrent=None, timeout=None, ignore_unused=False, **kwargs)\n",
      "        Return the string obtained by replacing the leftmost (or rightmost with a\n",
      "        reverse pattern) non-overlapping occurrences of the pattern in string by the\n",
      "        replacement format. format can be either a string or a callable; if a string,\n",
      "        it's treated as a format string; if a callable, it's passed the match object\n",
      "        and must return a replacement string to be used.\n",
      "    \n",
      "    subfn(pattern, format, string, count=0, flags=0, pos=None, endpos=None, concurrent=None, timeout=None, ignore_unused=False, **kwargs)\n",
      "        Return a 2-tuple containing (new_string, number). new_string is the string\n",
      "        obtained by replacing the leftmost (or rightmost with a reverse pattern)\n",
      "        non-overlapping occurrences of the pattern in the source string by the\n",
      "        replacement format. number is the number of substitutions that were made. format\n",
      "        can be either a string or a callable; if a string, it's treated as a format\n",
      "        string; if a callable, it's passed the match object and must return a\n",
      "        replacement string to be used.\n",
      "    \n",
      "    subn(pattern, repl, string, count=0, flags=0, pos=None, endpos=None, concurrent=None, timeout=None, ignore_unused=False, **kwargs)\n",
      "        Return a 2-tuple containing (new_string, number). new_string is the string\n",
      "        obtained by replacing the leftmost (or rightmost with a reverse pattern)\n",
      "        non-overlapping occurrences of the pattern in the source string by the\n",
      "        replacement repl. number is the number of substitutions that were made. repl\n",
      "        can be either a string or a callable; if a string, backslash escapes in it\n",
      "        are processed; if a callable, it's passed the match object and must return a\n",
      "        replacement string to be used.\n",
      "    \n",
      "    template(pattern, flags=0)\n",
      "        Compile a template pattern, returning a pattern object.\n",
      "\n",
      "DATA\n",
      "    A = regex.A\n",
      "    ASCII = regex.A\n",
      "    B = regex.B\n",
      "    BESTMATCH = regex.B\n",
      "    D = regex.D\n",
      "    DEBUG = regex.D\n",
      "    DEFAULT_VERSION = regex.V0\n",
      "    DOTALL = regex.S\n",
      "    E = regex.E\n",
      "    ENHANCEMATCH = regex.E\n",
      "    F = regex.F\n",
      "    FULLCASE = regex.F\n",
      "    I = regex.I\n",
      "    IGNORECASE = regex.I\n",
      "    L = regex.L\n",
      "    LOCALE = regex.L\n",
      "    M = regex.M\n",
      "    MULTILINE = regex.M\n",
      "    P = regex.P\n",
      "    POSIX = regex.P\n",
      "    R = regex.R\n",
      "    REVERSE = regex.R\n",
      "    S = regex.S\n",
      "    T = regex.T\n",
      "    TEMPLATE = regex.T\n",
      "    U = regex.U\n",
      "    UNICODE = regex.U\n",
      "    V0 = regex.V0\n",
      "    V1 = regex.V1\n",
      "    VERBOSE = regex.X\n",
      "    VERSION0 = regex.V0\n",
      "    VERSION1 = regex.V1\n",
      "    W = regex.W\n",
      "    WORD = regex.W\n",
      "    X = regex.X\n",
      "    __all__ = ['cache_all', 'compile', 'DEFAULT_VERSION', 'escape', 'finda...\n",
      "\n",
      "VERSION\n",
      "    2.5.116\n",
      "\n",
      "FILE\n",
      "    c:\\programdata\\anaconda3\\lib\\site-packages\\regex\\__init__.py\n",
      "\n",
      "\n",
      "None\n"
     ]
    }
   ],
   "source": [
    "print(help(re))"
   ]
  },
  {
   "cell_type": "code",
   "execution_count": 53,
   "id": "d3a59a7f",
   "metadata": {},
   "outputs": [
    {
     "name": "stdout",
     "output_type": "stream",
     "text": [
      "A,ASCII,B,BESTMATCH,D,DEBUG,DEFAULT_VERSION,DOTALL,E,ENHANCEMATCH,F,FULLCASE,I,IGNORECASE,L,LOCALE,M,MULTILINE,Match,P,POSIX,Pattern,R,REVERSE,Regex,RegexFlag,S,Scanner,T,TEMPLATE,U,UNICODE,V0,V1,VERBOSE,VERSION0,VERSION1,W,WORD,X,__all__,__builtins__,__cached__,__doc__,__file__,__loader__,__name__,__package__,__path__,__spec__,__version__,_regex,_regex_core,cache_all,compile,error,escape,findall,finditer,fullmatch,match,purge,regex,search,split,splititer,sub,subf,subfn,subn,template,"
     ]
    }
   ],
   "source": [
    "for i in dir(re):\n",
    "    print(i,end=\",\")"
   ]
  },
  {
   "cell_type": "code",
   "execution_count": 54,
   "id": "6a2da6eb",
   "metadata": {},
   "outputs": [
    {
     "name": "stdout",
     "output_type": "stream",
     "text": [
      "71\n"
     ]
    }
   ],
   "source": [
    "print(len(dir(re)))"
   ]
  },
  {
   "cell_type": "code",
   "execution_count": null,
   "id": "2734fa83",
   "metadata": {},
   "outputs": [],
   "source": [
    "Meta-character are special character with a special meaning that affect how the Regex around them are interpreted.\n",
    "meta character dont match themselves, instead they indicate that some rules characters or sign like |,+ or * are special\n",
    "characters.for Exp caret(^) meta character used to match the RegEx patterns only at the start of the string.\n",
    "\n",
    "Meta characters also called as operators, sign, or symbols."
   ]
  },
  {
   "cell_type": "code",
   "execution_count": null,
   "id": "0524b6d3",
   "metadata": {},
   "outputs": [],
   "source": [
    ".(DOT)--- Matches any characters excepts new line characters\n",
    "^(Caret)--- Matches pattern only at the start of the string(starts with)\n",
    "$(Dollar)--- Matches patterns at the end of the string(ends with)\n",
    "*(asterisk)--- Matches 0 or more repetitions of the RegEx (zero or more occurances)\n",
    "+(Plus)--- Matches 1 or more repetitions of the RegEx(one or more occurances)"
   ]
  },
  {
   "cell_type": "code",
   "execution_count": null,
   "id": "2c2f0e1f",
   "metadata": {},
   "outputs": [],
   "source": [
    "1.Kbps = kilo bits per second\n",
    "2.Gbps = Giga bits per second\n",
    "3.KBps = kilo bytes per second\n",
    "\n",
    "small 'b'   = unit of memory (Lowest unit of memory)\n",
    "capital 'B' = Bytes\n",
    "\n",
    "1B = 8bits"
   ]
  },
  {
   "cell_type": "code",
   "execution_count": 56,
   "id": "36b9fa6a",
   "metadata": {},
   "outputs": [
    {
     "data": {
      "text/plain": [
       "'datadatadata'"
      ]
     },
     "execution_count": 56,
     "metadata": {},
     "output_type": "execute_result"
    }
   ],
   "source": [
    "'data'*3"
   ]
  },
  {
   "cell_type": "code",
   "execution_count": 57,
   "id": "eb421857",
   "metadata": {},
   "outputs": [
    {
     "data": {
      "text/plain": [
       "'datascience'"
      ]
     },
     "execution_count": 57,
     "metadata": {},
     "output_type": "execute_result"
    }
   ],
   "source": [
    "'data'+'science'"
   ]
  },
  {
   "cell_type": "code",
   "execution_count": null,
   "id": "35cd109a",
   "metadata": {},
   "outputs": [],
   "source": [
    "Findall --- the findall() scans the target string from left to right as per the regular expression pattern and returns all \n",
    "matches in the order they were found.\n",
    "\n",
    "it returns None if it falls to locate the occurances of the pattern or such a pattern does not exist in a target string.\n",
    "\n",
    "syntax: re.findall(pattern, target_string)"
   ]
  },
  {
   "cell_type": "code",
   "execution_count": null,
   "id": "bf98b429",
   "metadata": {},
   "outputs": [],
   "source": [
    "Matching a specific word"
   ]
  },
  {
   "cell_type": "code",
   "execution_count": 58,
   "id": "d0187b3e",
   "metadata": {},
   "outputs": [
    {
     "name": "stdout",
     "output_type": "stream",
     "text": [
      "['Data Science', 'data Science']\n"
     ]
    }
   ],
   "source": [
    "import re\n",
    "pattern = 'data Science|Data Science'\n",
    "\n",
    "text = 'Data Science is a stream and it is a part of AI. you can solve many complex problem using data Science tools and techs'\n",
    "\n",
    "matches = re.findall(pattern, text)\n",
    "print(matches)"
   ]
  },
  {
   "cell_type": "code",
   "execution_count": 60,
   "id": "231fc63d",
   "metadata": {},
   "outputs": [
    {
     "name": "stdout",
     "output_type": "stream",
     "text": [
      "['Data Science', 'stream', 'AI', 'Data Science', 'tools']\n"
     ]
    }
   ],
   "source": [
    "import re\n",
    "pattern = 'Data Science|stream|tools|AI'\n",
    "\n",
    "text = 'Data Science is a stream and it is a part of AI. you can solve many complex problem using Data Science tools and techs'\n",
    "\n",
    "matches = re.findall(pattern, text)\n",
    "print(matches)"
   ]
  },
  {
   "cell_type": "code",
   "execution_count": null,
   "id": "24b8b6fa",
   "metadata": {},
   "outputs": [],
   "source": [
    "Extracting digits from a string:\n",
    "This code finds all sequences of digits within the text, it will print ['123','456'] checking character by character"
   ]
  },
  {
   "cell_type": "code",
   "execution_count": 65,
   "id": "0611b6bc",
   "metadata": {},
   "outputs": [
    {
     "name": "stdout",
     "output_type": "stream",
     "text": [
      "['10', '1', '28', '28', '10', '6', '9045', '2022']\n"
     ]
    }
   ],
   "source": [
    "pattern = '\\d+'\n",
    "\n",
    "text = '''India 10-1year bond yield hits 28 month low after fed hints at Sep rate cut.\n",
    "Indian government bond yields fell to a 28-month low after U.S yields following Federal Reserve dovish comments.\n",
    "The 10-year yield dropped to 6.9045%, its lowest since April 2022. U.S Investor expect rate cuts next year.'''\n",
    "\n",
    "matches = re.findall(pattern, text)\n",
    "print(matches)"
   ]
  },
  {
   "cell_type": "code",
   "execution_count": 68,
   "id": "4ee34e61",
   "metadata": {},
   "outputs": [
    {
     "name": "stdout",
     "output_type": "stream",
     "text": [
      "['123', '456']\n"
     ]
    }
   ],
   "source": [
    "pattern = '\\d+'\n",
    "text = 'There are 123 apple and 456 oranges.'\n",
    "\n",
    "matches = re.findall(pattern,text)\n",
    "\n",
    "print(matches)"
   ]
  },
  {
   "cell_type": "code",
   "execution_count": 69,
   "id": "955a9536",
   "metadata": {},
   "outputs": [
    {
     "name": "stdout",
     "output_type": "stream",
     "text": [
      "['123', '456']\n"
     ]
    }
   ],
   "source": [
    "pattern = '123|456'\n",
    "text = 'There are 123 apple and 456 oranges.'\n",
    "\n",
    "matches = re.findall(pattern,text)\n",
    "\n",
    "print(matches)"
   ]
  },
  {
   "cell_type": "code",
   "execution_count": 70,
   "id": "18924d51",
   "metadata": {},
   "outputs": [
    {
     "name": "stdout",
     "output_type": "stream",
     "text": [
      "['1', '2', '3', '4', '5', '6']\n"
     ]
    }
   ],
   "source": [
    "pattern = '[0-9]'\n",
    "text = 'There are 123 apple and 456 oranges.'\n",
    "\n",
    "matches = re.findall(pattern,text)\n",
    "\n",
    "print(matches)"
   ]
  },
  {
   "cell_type": "code",
   "execution_count": 72,
   "id": "e1f9b1c7",
   "metadata": {},
   "outputs": [
    {
     "name": "stdout",
     "output_type": "stream",
     "text": [
      "['123', '456']\n"
     ]
    }
   ],
   "source": [
    "pattern = '[0-9]+'\n",
    "text = 'There are 123 apple and 456 oranges.'\n",
    "\n",
    "matches = re.findall(pattern,text)\n",
    "\n",
    "print(matches)"
   ]
  },
  {
   "cell_type": "code",
   "execution_count": 74,
   "id": "0c22866d",
   "metadata": {},
   "outputs": [
    {
     "name": "stdout",
     "output_type": "stream",
     "text": [
      "['1', '2', '6']\n"
     ]
    }
   ],
   "source": [
    "pattern = '[0126]'\n",
    "text = 'There are 123 apple and 456 oranges.'\n",
    "\n",
    "matches = re.findall(pattern,text)\n",
    "\n",
    "print(matches)"
   ]
  },
  {
   "cell_type": "code",
   "execution_count": 75,
   "id": "ca3650b8",
   "metadata": {},
   "outputs": [
    {
     "name": "stdout",
     "output_type": "stream",
     "text": [
      "['There are ', ' apple and ', ' oranges. @#']\n"
     ]
    }
   ],
   "source": [
    "pattern = '\\D+'            # \"D\" it will fetch anything except numbers\n",
    "text = 'There are 123 apple and 456 oranges. @#'\n",
    "\n",
    "matches = re.findall(pattern,text)\n",
    "\n",
    "print(matches)"
   ]
  },
  {
   "cell_type": "code",
   "execution_count": 77,
   "id": "6d1fabe2",
   "metadata": {},
   "outputs": [
    {
     "name": "stdout",
     "output_type": "stream",
     "text": [
      "['50']\n",
      "['60']\n",
      "['120']\n"
     ]
    }
   ],
   "source": [
    "# Extracting digits from a lsit of string\n",
    "price = ['Apple costs Rs 50', 'Rs 60 for each pineapple', 'Rs 120 per watermelon']\n",
    "for msg in price:\n",
    "    matches = re.findall('\\d+', msg)\n",
    "    print(matches)"
   ]
  },
  {
   "cell_type": "code",
   "execution_count": 78,
   "id": "839354c6",
   "metadata": {},
   "outputs": [
    {
     "name": "stdout",
     "output_type": "stream",
     "text": [
      "Match object: ['Abdu', 'Kala', 'Indi', 'aero', 'spac', 'scie', 'ntis', 'also', 'know', 'Miss', 'Indi']\n"
     ]
    }
   ],
   "source": [
    "target_string = 'APJ Abdul Kalam was an Indian aerospace scientist also known as the Missile Man of India #@,'\n",
    "\n",
    "result = re.findall(r\"\\w{4}\", target_string)\n",
    "\n",
    "print(\"Match object:\", result)"
   ]
  },
  {
   "cell_type": "code",
   "execution_count": 81,
   "id": "47cbb7e4",
   "metadata": {},
   "outputs": [
    {
     "name": "stdout",
     "output_type": "stream",
     "text": [
      "Match object: ['Missile1234', '12kja_Presi', 'trignometry']\n"
     ]
    }
   ],
   "source": [
    "target_string = 'APJ Abdul Kalam was an Indian aerospace scientist also known as the Missile123456 12kja_President Man of India trignometry'\n",
    "\n",
    "result = re.findall(r\"\\w{11}\", target_string)\n",
    "\n",
    "print(\"Match object:\", result)"
   ]
  },
  {
   "cell_type": "code",
   "execution_count": 82,
   "id": "64eb3365",
   "metadata": {},
   "outputs": [
    {
     "name": "stdout",
     "output_type": "stream",
     "text": [
      "Match object: ['Abdul', 'Kalam', 'Indian', 'aerosp', 'scient', 'also', 'known', 'Missil', 'esdgfh', 'India']\n"
     ]
    }
   ],
   "source": [
    "target_string = 'APJ Abdul Kalam was an Indian aerospace scientist also known as the Missilesdgfhg Man of India'\n",
    "\n",
    "result = re.findall(r\"\\w{4,6}\", target_string)\n",
    "\n",
    "print(\"Match object:\", result)"
   ]
  },
  {
   "cell_type": "code",
   "execution_count": 86,
   "id": "67ef8260",
   "metadata": {},
   "outputs": [
    {
     "name": "stdout",
     "output_type": "stream",
     "text": [
      "['My', 'name', 'is', 'Ali', 'and', 'my', 'date', 'of', 'birth', 'is', '05', 'jan', '1991']\n"
     ]
    }
   ],
   "source": [
    "pattern = '[a-z,A-Z,0-9]+'\n",
    "\n",
    "text = 'My name is Ali and my date of birth is 05 jan 1991' \n",
    "\n",
    "matches = re.findall(pattern, text)\n",
    "\n",
    "print(matches)"
   ]
  },
  {
   "cell_type": "code",
   "execution_count": 116,
   "id": "8827eb94",
   "metadata": {},
   "outputs": [
    {
     "name": "stdout",
     "output_type": "stream",
     "text": [
      "['a', 'ab', 'abb', 'abbb']\n"
     ]
    }
   ],
   "source": [
    "pattern = 'ab*'                             # Matches: 'a' followed by zero or more 'b's\n",
    "test_strings = 'a ab abb abbb' \n",
    "\n",
    "\n",
    "# Matches: 'a' followed by two 'b's\n",
    "# Matches: 'a' followed by three 'b's\n",
    "# Does not match: does not start with 'a'\n",
    "# Does not match: 'a' followed by 'a'\n",
    "# Does not match: two 'a's\n",
    "\n",
    "matches = re.findall(pattern,test_strings)\n",
    "\n",
    "print(matches)\n"
   ]
  },
  {
   "cell_type": "code",
   "execution_count": 117,
   "id": "f48b5ddc",
   "metadata": {},
   "outputs": [
    {
     "name": "stdout",
     "output_type": "stream",
     "text": [
      "['ab', 'abb', 'abbb']\n"
     ]
    }
   ],
   "source": [
    "pattern = 'ab*'                               # Matches: 'a' followed by one or more 'b's\n",
    "test_strings = 'ab abb abbb'\n",
    "\n",
    "matches = re.findall(pattern,test_strings)\n",
    "\n",
    "print(matches)"
   ]
  },
  {
   "cell_type": "code",
   "execution_count": 119,
   "id": "b90b0c1f",
   "metadata": {},
   "outputs": [
    {
     "name": "stdout",
     "output_type": "stream",
     "text": [
      "['a', 'ab']\n"
     ]
    }
   ],
   "source": [
    "pattern = 'ab*'                               # Matches: 'a' followed by zero or one 'b'\n",
    "test_strings = 'a ab'\n",
    "\n",
    "matches = re.findall(pattern,test_strings)\n",
    "\n",
    "print(matches)"
   ]
  },
  {
   "cell_type": "code",
   "execution_count": 127,
   "id": "02eadee3",
   "metadata": {},
   "outputs": [
    {
     "name": "stdout",
     "output_type": "stream",
     "text": [
      "['abbb']\n"
     ]
    }
   ],
   "source": [
    "pattern = 'ab*'                               # Matches: 'a' followed by three 'b'\n",
    "test_strings = 'abbb w re r ewe'\n",
    "\n",
    "matches = re.findall(pattern,test_strings)\n",
    "\n",
    "print(matches)"
   ]
  },
  {
   "cell_type": "code",
   "execution_count": 139,
   "id": "a7fc0186",
   "metadata": {},
   "outputs": [
    {
     "name": "stdout",
     "output_type": "stream",
     "text": [
      "['abb', 'abbb']\n"
     ]
    }
   ],
   "source": [
    "pattern = 'ab*'                               # Matches: 'a' followed by two to three 'b'   \n",
    "test_strings = 'abb wed re r abbb'\n",
    "\n",
    "matches = re.findall(pattern,test_strings)\n",
    "\n",
    "print(matches)"
   ]
  },
  {
   "cell_type": "code",
   "execution_count": 227,
   "id": "e4abb06f",
   "metadata": {},
   "outputs": [
    {
     "name": "stdout",
     "output_type": "stream",
     "text": [
      "match found: ['acb', 'a12_3b', 'ah@,gvjb', 'ac88fdfb']\n"
     ]
    }
   ],
   "source": [
    "pattern =  'a[\\w@,]+b'                              # Matches: 'a' followed by anything ending with 'b' 'A[\\w@,]+j|A[\\w*]+1'\n",
    "text = 'acb a12_3b Ab ah@,gvjb  ac88fdfb Aweer@b fgghb adr45'\n",
    "\n",
    "matches = re.findall(pattern, text)\n",
    "\n",
    "print('match found:',  matches)"
   ]
  },
  {
   "cell_type": "code",
   "execution_count": 211,
   "id": "9c17aea0",
   "metadata": {},
   "outputs": [
    {
     "name": "stdout",
     "output_type": "stream",
     "text": [
      "Match found: ['acb', 'a765b', 'ahgfd12@,b']\n"
     ]
    }
   ],
   "source": [
    "string = 'acb a765b ab ahgfd12@,b'\n",
    "pattern = 'a[\\w@,]+b'\n",
    "\n",
    "result = re.findall(pattern, string)\n",
    "\n",
    "print('Match found:', result)"
   ]
  },
  {
   "cell_type": "code",
   "execution_count": 163,
   "id": "fd4db6f6",
   "metadata": {},
   "outputs": [
    {
     "name": "stdout",
     "output_type": "stream",
     "text": [
      "['Hello']\n"
     ]
    }
   ],
   "source": [
    "pattern = '^\\w+'                           # it will match the word at begining (a-z, A-Z, 0-9, '_' )\n",
    "\n",
    "text = 'Hello _999 Today is the most66 Beautiful_day'\n",
    "\n",
    "matches = re.findall(pattern, text)\n",
    "\n",
    "print(matches)"
   ]
  },
  {
   "cell_type": "code",
   "execution_count": 164,
   "id": "6b137f01",
   "metadata": {},
   "outputs": [
    {
     "name": "stdout",
     "output_type": "stream",
     "text": [
      "['Beautiful_day']\n"
     ]
    }
   ],
   "source": [
    "pattern = '\\w+$'                           # it will match the word at the end (a-z, A-Z, 0-9, '_' )\n",
    "\n",
    "text = 'Hello _999 Today is the most66 Beautiful_day'\n",
    "\n",
    "matches = re.findall(pattern, text)\n",
    "\n",
    "print(matches)"
   ]
  },
  {
   "cell_type": "code",
   "execution_count": 196,
   "id": "24638b2f",
   "metadata": {},
   "outputs": [
    {
     "name": "stdout",
     "output_type": "stream",
     "text": [
      "['what', 'your', 'Name', 'plea', 'Answ', 'er12', 'quic', '1235']\n"
     ]
    }
   ],
   "source": [
    "pattern = '\\w{4}'                            # it will match the word upto 4 character as per condition{4} except special char\n",
    "target_string = 'what is your Name please Answer123 quickly 1235@.'\n",
    "\n",
    "matches = re.findall(pattern, target_string)\n",
    "\n",
    "print(matches)"
   ]
  },
  {
   "cell_type": "code",
   "execution_count": 193,
   "id": "17058368",
   "metadata": {},
   "outputs": [
    {
     "name": "stdout",
     "output_type": "stream",
     "text": [
      "Match object: ['0132', '2318', '1458', '2725']\n"
     ]
    }
   ],
   "source": [
    "pattern = '\\w{4}'                            # it will matches anything except any special char like @#$& \n",
    "target_string = '01 0132 231875 1458 301 2725@.'\n",
    "\n",
    "matches = re.findall(pattern, target_string)\n",
    "\n",
    "print('Match object:',  matches)"
   ]
  },
  {
   "cell_type": "code",
   "execution_count": 177,
   "id": "17c22855",
   "metadata": {},
   "outputs": [
    {
     "name": "stdout",
     "output_type": "stream",
     "text": [
      "match object: ['0132', '2318', '1458', '7754', '2725']\n"
     ]
    }
   ],
   "source": [
    "target_string = '01 0132 231875 14587754 301 2725@.'\n",
    "\n",
    "result = re.findall(r'\\w{4}', target_string)\n",
    "\n",
    "\n",
    "\n",
    "print('match object:', result)"
   ]
  },
  {
   "cell_type": "code",
   "execution_count": 189,
   "id": "3b162695",
   "metadata": {},
   "outputs": [
    {
     "name": "stdout",
     "output_type": "stream",
     "text": [
      "Match object: ['Abdu', 'Kala', 'Indi', 'aero', 'spac', 'scie', 'ntis', 'also', 'know', 'Miss', 'Indi']\n"
     ]
    }
   ],
   "source": [
    "target_string = 'APJ Abdul Kalam was an Indian aerospace scientist also known as the Missile Man of India #@,'\n",
    "\n",
    "result = re.findall(r\"\\w{4}\", target_string)\n",
    "\n",
    "print(\"Match object:\", result)"
   ]
  },
  {
   "cell_type": "code",
   "execution_count": 190,
   "id": "4f2959c5",
   "metadata": {},
   "outputs": [
    {
     "name": "stdout",
     "output_type": "stream",
     "text": [
      "Match object: ['Missile1234', '12kja_Presi', 'trignometry']\n"
     ]
    }
   ],
   "source": [
    "target_string = 'APJ Abdul Kalam was an Indian aerospace scientist also known as the Missile123456 12kja_President Man of India trignometry'\n",
    "\n",
    "result = re.findall(r\"\\w{11}\", target_string)\n",
    "\n",
    "print(\"Match object:\", result)"
   ]
  },
  {
   "cell_type": "code",
   "execution_count": 191,
   "id": "6659bea6",
   "metadata": {},
   "outputs": [
    {
     "name": "stdout",
     "output_type": "stream",
     "text": [
      "Match object: ['Abdul', 'Kalam', 'Indian', 'aerosp', 'scient', 'also', 'known', 'Missil', 'esdgfh', 'India']\n"
     ]
    }
   ],
   "source": [
    "target_string = 'APJ Abdul Kalam was an Indian aerospace scientist also known as the Missilesdgfhg Man of India'\n",
    "\n",
    "result = re.findall(r\"\\w{4,6}\", target_string)\n",
    "\n",
    "print(\"Match object:\", result)"
   ]
  },
  {
   "cell_type": "code",
   "execution_count": 232,
   "id": "452d63ab",
   "metadata": {},
   "outputs": [
    {
     "name": "stdout",
     "output_type": "stream",
     "text": [
      "['AP12ik,@j', 'Abdu_*1']\n"
     ]
    }
   ],
   "source": [
    "#Extracting string which begins with A and ends with j or string begins with A and ends with 1 from the given string\n",
    "import re\n",
    "string = 'AP12ik,@j Abdu_*1 kalam Awas@ an indian aerospace scientist'\n",
    "pattern = 'A[\\w@,]+j|A[\\w*]+1'\n",
    "\n",
    "result = re.findall(pattern, string)\n",
    "\n",
    "print(result)"
   ]
  },
  {
   "cell_type": "code",
   "execution_count": 235,
   "id": "3bedfd7f",
   "metadata": {},
   "outputs": [
    {
     "name": "stdout",
     "output_type": "stream",
     "text": [
      "['aP12ik@j', 'Abdu_*1']\n"
     ]
    }
   ],
   "source": [
    "string = 'aP12ik@j Abdu_*1 kalam Awas@ an indian aerospace scientist'\n",
    "pattern = 'a[\\w@]+j|A[\\w*]+1'\n",
    "\n",
    "result = re.findall(pattern, string)\n",
    "\n",
    "print(result)"
   ]
  },
  {
   "cell_type": "code",
   "execution_count": 240,
   "id": "eebf4d38",
   "metadata": {},
   "outputs": [
    {
     "name": "stdout",
     "output_type": "stream",
     "text": [
      "['As rescue operations entered the fifth day on Saturday, ', \"\\nthe toll in kerala's worst natural calamity touched \", ' with several people still missing 246 after \\nthe massive landslides and floods at wayanad.']\n"
     ]
    }
   ],
   "source": [
    "string = \"\"\"As rescue operations entered the fifth day on Saturday, 12\n",
    "the toll in kerala's worst natural calamity touched 330 with several people still missing 246 after \n",
    "the massive landslides and floods at wayanad.\"\"\"\n",
    "\n",
    "pattern = '\\d+'\n",
    "\n",
    "result = re.split(pattern, string,2)   # Max split can give 2 3 4 it will split wherever number matches\n",
    "\n",
    "print(result)"
   ]
  },
  {
   "cell_type": "code",
   "execution_count": 241,
   "id": "523b8844",
   "metadata": {},
   "outputs": [
    {
     "name": "stdout",
     "output_type": "stream",
     "text": [
      "['As rescue operations entered the fifth day on Saturday, ', \"\\nthe toll in kerala's worst natural calamity touched \", ' with several people still missing ', ' after \\nthe massive landslides and floods at wayanad.']\n"
     ]
    }
   ],
   "source": [
    "string = \"\"\"As rescue operations entered the fifth day on Saturday, 12\n",
    "the toll in kerala's worst natural calamity touched 330 with several people still missing 246 after \n",
    "the massive landslides and floods at wayanad.\"\"\"\n",
    "\n",
    "pattern = '\\d+'\n",
    "\n",
    "result = re.split(pattern, string,3)   # Max split can give 2 3 4 it will split wherever number matches\n",
    "\n",
    "print(result)"
   ]
  },
  {
   "cell_type": "code",
   "execution_count": 242,
   "id": "41c09a80",
   "metadata": {},
   "outputs": [
    {
     "name": "stdout",
     "output_type": "stream",
     "text": [
      "['As rescue operations entered the fifth day on Saturday, ', \"\\nthe toll in kerala's worst natural calamity touched \", ' with several people still missing ', ' after \\nthe massive landslides and floods at wayanad.']\n"
     ]
    }
   ],
   "source": [
    "string = \"\"\"As rescue operations entered the fifth day on Saturday, 12\n",
    "the toll in kerala's worst natural calamity touched 330 with several people still missing 246 after \n",
    "the massive landslides and floods at wayanad.\"\"\"\n",
    "\n",
    "pattern = '\\d+'\n",
    "\n",
    "result = re.split(pattern, string,)   # Max split can give 2 3 4 it will split wherever number matches\n",
    "\n",
    "print(result)"
   ]
  },
  {
   "cell_type": "code",
   "execution_count": 244,
   "id": "b53e1760",
   "metadata": {},
   "outputs": [
    {
     "name": "stdout",
     "output_type": "stream",
     "text": [
      "['Twelve:', ' Eighty nine:', ',']\n"
     ]
    }
   ],
   "source": [
    "string = 'Twelve:12 Eighty nine:89,'\n",
    "pattern = '\\d+'\n",
    "\n",
    "result = re.split(pattern, string,)\n",
    "\n",
    "print(result)"
   ]
  },
  {
   "cell_type": "code",
   "execution_count": 245,
   "id": "1b007084",
   "metadata": {},
   "outputs": [
    {
     "name": "stdout",
     "output_type": "stream",
     "text": [
      "['Twelve:', ' Eighty nine:89,']\n"
     ]
    }
   ],
   "source": [
    "string = 'Twelve:12 Eighty nine:89,'\n",
    "pattern = '\\d+'\n",
    "\n",
    "result = re.split(pattern, string, 1)\n",
    "\n",
    "print(result)"
   ]
  },
  {
   "cell_type": "code",
   "execution_count": 249,
   "id": "f15359a8",
   "metadata": {},
   "outputs": [
    {
     "name": "stdout",
     "output_type": "stream",
     "text": [
      "['India', 'is', 'a', 'beautiful country Bharat']\n"
     ]
    }
   ],
   "source": [
    "# split at each white space character (\\s is split by white space)\n",
    "text = 'India is a beautiful country Bharat'\n",
    "x = re.split('\\s', text, 3) \n",
    "\n",
    "print(x)"
   ]
  },
  {
   "cell_type": "code",
   "execution_count": 247,
   "id": "4aed4592",
   "metadata": {},
   "outputs": [
    {
     "name": "stdout",
     "output_type": "stream",
     "text": [
      "['How', 'is', 'this possible data science position']\n"
     ]
    }
   ],
   "source": [
    "#split by position\n",
    "split_by_position = 'How is this possible data science position'\n",
    "x = re.split('\\s', split_by_position, 2)\n",
    "\n",
    "print(x)"
   ]
  },
  {
   "cell_type": "code",
   "execution_count": 251,
   "id": "e95ac6cf",
   "metadata": {},
   "outputs": [
    {
     "name": "stdout",
     "output_type": "stream",
     "text": [
      "['12', '45+78', '85-17-89:45']\n"
     ]
    }
   ],
   "source": [
    "# split string by three delimiters (- , :) Here we are using 3 delimiter (- , :) and using OR(|) operator \n",
    "# to combine two or more pattern, Max limit 2 for split the target string.\n",
    "target_string = '12,45+78,85-17-89:45'\n",
    "result = re.split(r\"-|,|:\", target_string, 2)\n",
    "\n",
    "print(result)"
   ]
  },
  {
   "cell_type": "code",
   "execution_count": 253,
   "id": "5a94a81e",
   "metadata": {},
   "outputs": [
    {
     "name": "stdout",
     "output_type": "stream",
     "text": [
      "This++function++replaces++spaces++by++assigned++char\n"
     ]
    }
   ],
   "source": [
    "# Sub(Substitute) : This method is used to find a substring where a regex pattern matches, and then it replaces the matched\n",
    "# substring with a different string, if the pattern is not found, re.sub() returns the original string.\n",
    "# syntax = re.sub(pattern, replacement, string, flags)\n",
    "\n",
    "sub_ = 'This function replaces spaces by assigned char'\n",
    "x = re.sub('\\s', '++', sub_)\n",
    "\n",
    "print(x)"
   ]
  },
  {
   "cell_type": "code",
   "execution_count": 254,
   "id": "38781ce9",
   "metadata": {},
   "outputs": [
    {
     "name": "stdout",
     "output_type": "stream",
     "text": [
      "This item costs $ 2500 and rs 3000\n"
     ]
    }
   ],
   "source": [
    "y = 'Rs'\n",
    "text = 'This item costs Rs 2500 and rs 3000'\n",
    "\n",
    "replaced_text = re.sub(y, '$', text)\n",
    "\n",
    "print(replaced_text)"
   ]
  },
  {
   "cell_type": "code",
   "execution_count": 255,
   "id": "2fce0d74",
   "metadata": {},
   "outputs": [
    {
     "name": "stdout",
     "output_type": "stream",
     "text": [
      "This item costs $ 2500 and $ 3000\n"
     ]
    }
   ],
   "source": [
    "y = 'Rs'\n",
    "text = 'This item costs Rs 2500 and rs 3000'\n",
    "\n",
    "replaced_text = re.sub(y, '$', text, flags=re.IGNORECASE)   # flags can ignore cases capital or small\n",
    "\n",
    "print(replaced_text)"
   ]
  },
  {
   "cell_type": "code",
   "execution_count": 256,
   "id": "4a4961ac",
   "metadata": {},
   "outputs": [
    {
     "name": "stdout",
     "output_type": "stream",
     "text": [
      "APJAbdulKalamwasanindianaerospacescientistalsoknownasmissilemanofindia\n"
     ]
    }
   ],
   "source": [
    "# Remove all spaces, including single or multiple spaces(pattern to remove '\\s+')\n",
    "target_string = \"APJ   Abdul Kalam was      an indian aerospace scientist also known as missile man of india\"\n",
    "res_string = re.sub(r'\\s+', \"\", target_string) \n",
    "\n",
    "print(res_string)"
   ]
  },
  {
   "cell_type": "code",
   "execution_count": 259,
   "id": "7757fa05",
   "metadata": {},
   "outputs": [
    {
     "name": "stdout",
     "output_type": "stream",
     "text": [
      "        APJ Abdul Kalam was an indian aerospace scientist also known as missile man of india     \n",
      "APJ Abdul Kalam was an indian aerospace scientist also known as missile man of india\n"
     ]
    }
   ],
   "source": [
    "# Removing trailing spaces (pattern to remove ending white space and starting white space)\n",
    "target_string = \"        APJ Abdul Kalam was an indian aerospace scientist also known as missile man of india     \"\n",
    "print(target_string)\n",
    "\n",
    "res_string = re.sub(r'\\s+$|^\\s+', \"\", target_string) \n",
    "\n",
    "print(res_string)"
   ]
  },
  {
   "cell_type": "code",
   "execution_count": 265,
   "id": "2ddc2c45",
   "metadata": {},
   "outputs": [
    {
     "name": "stdout",
     "output_type": "stream",
     "text": [
      "abc*xyz*_*\n"
     ]
    }
   ],
   "source": [
    "substitute = re.sub(r'[0-9]+', r'*', 'abc00123xyz456_0')\n",
    "\n",
    "print(substitute)"
   ]
  },
  {
   "cell_type": "code",
   "execution_count": 266,
   "id": "8704be8c",
   "metadata": {},
   "outputs": [
    {
     "name": "stdout",
     "output_type": "stream",
     "text": [
      "('abc* *xyz*_*#*@*', 6)\n"
     ]
    }
   ],
   "source": [
    "#subn() it is similiar to sub() and used to find a substring where a regex pattern matches,\n",
    "#and then it replaces the matched substring with a different string along with the number of replacements \n",
    "# it will count how many time replacements\n",
    "substitute_and_count = re.subn(r'[0-9]+', r'*', 'abc001 23xyz456_0#05@26')\n",
    "\n",
    "print(substitute_and_count)"
   ]
  },
  {
   "cell_type": "code",
   "execution_count": 267,
   "id": "a43a6675",
   "metadata": {},
   "outputs": [
    {
     "name": "stdout",
     "output_type": "stream",
     "text": [
      "None\n"
     ]
    }
   ],
   "source": [
    "#Match object : Python re.match method looks for the regex pattern only at the begining of the target string and returns match\n",
    "#objects, if match found, otherwise it will return None.\n",
    "\n",
    "#Here the result will be None because no 4 digit number is persent at the begining of the string.\n",
    "\n",
    "target_string = 'Virat is a cricket player 1988 who was born on November 5, 1988'\n",
    "\n",
    "result = re.match(r'\\d{4}', target_string)\n",
    "\n",
    "print(result)"
   ]
  },
  {
   "cell_type": "code",
   "execution_count": 269,
   "id": "8fcfd3c3",
   "metadata": {},
   "outputs": [
    {
     "name": "stdout",
     "output_type": "stream",
     "text": [
      "<re.Match object; span=(0, 4), match='2024'>\n"
     ]
    }
   ],
   "source": [
    "target_string = '2024 Virat is a cricket player 1988 who was born on November 5, 1988'\n",
    "\n",
    "# match at begining of the string\n",
    "result = re.match(r'\\d{4}', target_string)\n",
    "\n",
    "print(result)"
   ]
  },
  {
   "cell_type": "code",
   "execution_count": 270,
   "id": "daf25e74",
   "metadata": {},
   "outputs": [
    {
     "name": "stdout",
     "output_type": "stream",
     "text": [
      "['2024', '1988', '1988']\n"
     ]
    }
   ],
   "source": [
    "target_string = '2024 Virat is a cricket player 1988 who was born on November 5, 1988'\n",
    "# match at the end\n",
    "result = re.findall(r'\\d{4}', target_string)\n",
    "\n",
    "print(result)"
   ]
  },
  {
   "cell_type": "code",
   "execution_count": 273,
   "id": "2a86488a",
   "metadata": {},
   "outputs": [
    {
     "name": "stdout",
     "output_type": "stream",
     "text": [
      "<re.Match object; span=(0, 6), match='123abc'>\n"
     ]
    }
   ],
   "source": [
    "target_string = '123abc is an alphanumeric number'\n",
    "\n",
    "y = re.match(\"\\w+\", target_string)\n",
    "\n",
    "print(y)"
   ]
  },
  {
   "cell_type": "code",
   "execution_count": 272,
   "id": "f5120b29",
   "metadata": {},
   "outputs": [
    {
     "name": "stdout",
     "output_type": "stream",
     "text": [
      "<re.Match object; span=(0, 28), match='123abc is an alphanumeric @ '>\n"
     ]
    }
   ],
   "source": [
    "target_string = '123abc is an alphanumeric @ \\n # number'\n",
    "\n",
    "y = re.match(\".+\", target_string)\n",
    "\n",
    "print(y)"
   ]
  },
  {
   "cell_type": "code",
   "execution_count": null,
   "id": "06fd5249",
   "metadata": {},
   "outputs": [],
   "source": [
    "# Search() : Python regex re.search() methods looks for occurances of the regex pattern inside the entire target string \n",
    "# and returns the corresponding match objects instance where the match found."
   ]
  },
  {
   "cell_type": "code",
   "execution_count": 274,
   "id": "333f25d4",
   "metadata": {},
   "outputs": [
    {
     "name": "stdout",
     "output_type": "stream",
     "text": [
      "None\n",
      "None\n",
      "<re.Match object; span=(11, 17), match='banana'>\n",
      "<re.Match object; span=(64, 70), match='banana'>\n",
      "None\n"
     ]
    }
   ],
   "source": [
    "msges = ['Bananas are not only very delicious pieces of fruit',\n",
    "        'they are also super healthy.',\n",
    "        'Eating two bananas a day can do wonders for your health',\n",
    "        'for example. but did you ever think of sticking a needle into a banana? probably not.',\n",
    "        'but you should, because it is super handy!']\n",
    "\n",
    "for msg in msges:\n",
    "    search = re.search('banana',msg)\n",
    "    print(search)"
   ]
  },
  {
   "cell_type": "code",
   "execution_count": 275,
   "id": "cf2e7fc1",
   "metadata": {},
   "outputs": [
    {
     "name": "stdout",
     "output_type": "stream",
     "text": [
      "<re.Match object; span=(0, 2), match='20'>\n",
      "None\n",
      "<re.Match object; span=(11, 17), match='banana'>\n",
      "<re.Match object; span=(13, 17), match='1000'>\n",
      "<re.Match object; span=(16, 22), match='banana'>\n"
     ]
    }
   ],
   "source": [
    "msges = ['20 lakh Bananas are not only very delicious pieces of fruit',\n",
    "        'they are also super healthy.',\n",
    "        'Eating two bananas a day can do wonders for your health',\n",
    "        'for example. 1000 but did you ever think of sticking a needle into a banana? probably not.',\n",
    "        'but you should, banana because it is super handy!']\n",
    "\n",
    "for msg in msges:\n",
    "    search = re.search('\\d+|banana', msg)     # it will give result only first instance in the case of search.\n",
    "    print(search)"
   ]
  },
  {
   "cell_type": "code",
   "execution_count": 279,
   "id": "b483710c",
   "metadata": {},
   "outputs": [
    {
     "name": "stdout",
     "output_type": "stream",
     "text": [
      "['20', '5']\n",
      "[]\n",
      "['banana']\n",
      "['1000', 'banana']\n",
      "['banana']\n"
     ]
    }
   ],
   "source": [
    "msges = ['20 lakh Bananas are not only very delicious pieces of 5 fruit',\n",
    "        'they are also super healthy.',\n",
    "        'Eating two bananas a day can do wonders for your health',\n",
    "        'for example. 1000 but did you ever think of sticking a needle into a banana? probably not.',\n",
    "        'but you should, banana because it is super handy!']\n",
    "\n",
    "for msg in msges:\n",
    "    search = re.findall('\\d+|banana', msg)     # it will give result all the matches in the case of findall.\n",
    "    print(search)"
   ]
  },
  {
   "cell_type": "code",
   "execution_count": 280,
   "id": "f346a6aa",
   "metadata": {},
   "outputs": [
    {
     "name": "stdout",
     "output_type": "stream",
     "text": [
      "<re.Match object; span=(0, 28), match='This product is really Great'>\n"
     ]
    }
   ],
   "source": [
    "msg1 = 'This product is really Great'\n",
    "\n",
    "search = re.search('^This.*Great$', msg1)\n",
    "\n",
    "print(search)"
   ]
  },
  {
   "cell_type": "code",
   "execution_count": null,
   "id": "f6049446",
   "metadata": {},
   "outputs": [],
   "source": [
    "#Group in RegEx : A group is a part of regex pattern enclosed in parenthesis () meta char, we create a group by placing the \n",
    "regex pattern inside the set of parenthesis and capturing groups are a way to treat multiple char as a single unit.\n",
    "they are created by placing the charecter to be grouped inside a set of parenthesis().\n",
    "\n",
    "We can use the group() method to extract each group result separately by specifying a group index in between parenthesis().\n",
    "\n",
    "please note that unlike string indexing start from 0 but group numbering always start at 1."
   ]
  },
  {
   "cell_type": "code",
   "execution_count": 285,
   "id": "4d3f3387",
   "metadata": {},
   "outputs": [
    {
     "name": "stdout",
     "output_type": "stream",
     "text": [
      "<re.Match object; span=(24, 57), match='43 CENTURIES and 91 HALFCENTURIES'>\n",
      "43 CENTURIES and 91 HALFCENTURIES\n",
      "43\n",
      "('CENTURIES', '91')\n"
     ]
    }
   ],
   "source": [
    "target_string = 'Rohit Sharma has scored 43 CENTURIES and 91 HALFCENTURIES in his cricket career'\n",
    "\n",
    "result = re.search(r\"(\\b\\d+).+(\\b[A-Z]+\\b).+(\\b\\d+).+(\\b[A-Z]+\\b)\", target_string) # word char starting with digit one or more\n",
    "\n",
    "print(result)\n",
    "\n",
    "print(result.group())   # Extract matching values of all groups\n",
    "\n",
    "print(result.group(1))  # Extract matching values of group 1\n",
    "\n",
    "print(result.group(2,3))   # Extract matching values of group 2 and group 3"
   ]
  },
  {
   "cell_type": "code",
   "execution_count": null,
   "id": "6b62219e",
   "metadata": {},
   "outputs": [],
   "source": [
    "# Regex capture groups multiple times\n",
    "The search method will return only the first match for each group, but what if a string contains multiple occurances of a \n",
    "\n",
    "regex group and you want to extract all matches.\n",
    "\n",
    "to capture all matches of regex group we need to use finditer() method.\n",
    "\n",
    "The finditer() methods finds all matches and returns an iterator yielding match object matching the regex pattern.\n",
    "\n",
    "don't use findall() method\n",
    "\n",
    "So always use finditer() if you wanted to capture all matches to the group. "
   ]
  },
  {
   "cell_type": "code",
   "execution_count": 286,
   "id": "213e504e",
   "metadata": {},
   "outputs": [
    {
     "name": "stdout",
     "output_type": "stream",
     "text": [
      "<re.Match object; span=(24, 36), match='43 CENTURIES'>\n",
      "43 CENTURIES\n",
      "<re.Match object; span=(41, 57), match='91 HALFCENTURIES'>\n",
      "91 HALFCENTURIES\n"
     ]
    }
   ],
   "source": [
    "target_string = 'Rohit Sharma has scored 43 CENTURIES and 91 HALFCENTURIES in his cricket career'\n",
    "\n",
    "pattern = re.compile(r\"(\\b\\d+\\b).(\\b[A-Z]+\\b)\")\n",
    "\n",
    "#find all matches to groups\n",
    "for match1 in pattern.finditer(target_string):\n",
    "    print(match1)\n",
    "    print(match1.group())\n",
    "    \n",
    "    #Extract number\n",
    "    #print(match1.group(2))\n"
   ]
  },
  {
   "cell_type": "code",
   "execution_count": 287,
   "id": "19f82efa",
   "metadata": {},
   "outputs": [
    {
     "name": "stdout",
     "output_type": "stream",
     "text": [
      "Ram went to his home\n"
     ]
    }
   ],
   "source": [
    "# remove all consecutive Duplicates words if any word between duplicates word it will not removed.\n",
    "\n",
    "string_1 = \"Ram went went to to his home\"\n",
    "\n",
    "regex = r'\\b(\\w+)(?:\\W+\\1\\b)+'\n",
    "\n",
    "x = re.sub(regex, r'\\1', string_1)\n",
    "\n",
    "print(x)"
   ]
  },
  {
   "cell_type": "code",
   "execution_count": null,
   "id": "56674a68",
   "metadata": {},
   "outputs": [],
   "source": [
    "The details of the above regular expression can be understood as:\n",
    "    \n",
    "\"\\b\" : A word boundary Boundaries are needed for special cases for example: \"My thesis is great\", is won't be matched twice.\n",
    "        \n",
    "\"\\w+\" : A word charecter: [a-zA-Z_0-9]\n",
    "        \n",
    "\"\\W+\" : A non word character. [^\\w]\n",
    "    \n",
    "\"\\1\"  : Matches whatever was matched in the first group of parentheses. which in this case is the (\\w+)\n",
    "    \n",
    "\"+\"   : Matches whatever it's placed after 1 or more times"
   ]
  },
  {
   "cell_type": "code",
   "execution_count": 290,
   "id": "1058316d",
   "metadata": {},
   "outputs": [
    {
     "ename": "FileNotFoundError",
     "evalue": "[Errno 2] No such file or directory: '/content/url_related.txt'",
     "output_type": "error",
     "traceback": [
      "\u001b[1;31m---------------------------------------------------------------------------\u001b[0m",
      "\u001b[1;31mFileNotFoundError\u001b[0m                         Traceback (most recent call last)",
      "\u001b[1;32m~\\AppData\\Local\\Temp\\ipykernel_14496\\2634246348.py\u001b[0m in \u001b[0;36m<module>\u001b[1;34m\u001b[0m\n\u001b[1;32m----> 1\u001b[1;33m \u001b[1;32mwith\u001b[0m \u001b[0mopen\u001b[0m\u001b[1;33m(\u001b[0m\u001b[1;34m\"/content/url_related.txt\"\u001b[0m\u001b[1;33m)\u001b[0m \u001b[1;32mas\u001b[0m \u001b[0mfile\u001b[0m\u001b[1;33m:\u001b[0m\u001b[1;33m\u001b[0m\u001b[1;33m\u001b[0m\u001b[0m\n\u001b[0m\u001b[0;32m      2\u001b[0m     \u001b[1;32mfor\u001b[0m \u001b[0mline\u001b[0m \u001b[1;32min\u001b[0m \u001b[0mfile\u001b[0m\u001b[1;33m:\u001b[0m\u001b[1;33m\u001b[0m\u001b[1;33m\u001b[0m\u001b[0m\n\u001b[0;32m      3\u001b[0m         \u001b[0murls\u001b[0m \u001b[1;33m=\u001b[0m \u001b[0mre\u001b[0m\u001b[1;33m.\u001b[0m\u001b[0mfindall\u001b[0m\u001b[1;33m(\u001b[0m\u001b[1;34m'(https?://(?:[-\\w.]|(?:%[\\da-zA-Z0-9]{2}))+'\u001b[0m\u001b[1;33m,\u001b[0m \u001b[0mline\u001b[0m\u001b[1;33m)\u001b[0m\u001b[1;33m\u001b[0m\u001b[1;33m\u001b[0m\u001b[0m\n\u001b[0;32m      4\u001b[0m \u001b[1;33m\u001b[0m\u001b[0m\n\u001b[0;32m      5\u001b[0m         \u001b[0mprint\u001b[0m\u001b[1;33m(\u001b[0m\u001b[0murls\u001b[0m\u001b[1;33m)\u001b[0m\u001b[1;33m\u001b[0m\u001b[1;33m\u001b[0m\u001b[0m\n",
      "\u001b[1;31mFileNotFoundError\u001b[0m: [Errno 2] No such file or directory: '/content/url_related.txt'"
     ]
    }
   ],
   "source": [
    "with open(\"/content/url_related.txt\") as file:\n",
    "    for line in file:\n",
    "        urls = re.findall('(https?://(?:[-\\w.]|(?:%[\\da-zA-Z0-9]{2}))+', line)\n",
    "        \n",
    "        print(urls)"
   ]
  },
  {
   "cell_type": "code",
   "execution_count": 289,
   "id": "4d6ac2c4",
   "metadata": {},
   "outputs": [
    {
     "ename": "FileNotFoundError",
     "evalue": "[Errno 2] No such file or directory: '/content/url_related.txt'",
     "output_type": "error",
     "traceback": [
      "\u001b[1;31m---------------------------------------------------------------------------\u001b[0m",
      "\u001b[1;31mFileNotFoundError\u001b[0m                         Traceback (most recent call last)",
      "\u001b[1;32m~\\AppData\\Local\\Temp\\ipykernel_14496\\1884527497.py\u001b[0m in \u001b[0;36m<module>\u001b[1;34m\u001b[0m\n\u001b[1;32m----> 1\u001b[1;33m \u001b[1;32mwith\u001b[0m \u001b[0mopen\u001b[0m\u001b[1;33m(\u001b[0m\u001b[1;34m\"/content/url_related.txt\"\u001b[0m\u001b[1;33m)\u001b[0m \u001b[1;32mas\u001b[0m \u001b[0mfile\u001b[0m\u001b[1;33m:\u001b[0m\u001b[1;33m\u001b[0m\u001b[1;33m\u001b[0m\u001b[0m\n\u001b[0m\u001b[0;32m      2\u001b[0m     \u001b[1;32mfor\u001b[0m \u001b[0mline\u001b[0m \u001b[1;32min\u001b[0m \u001b[0mfile\u001b[0m\u001b[1;33m:\u001b[0m\u001b[1;33m\u001b[0m\u001b[1;33m\u001b[0m\u001b[0m\n\u001b[0;32m      3\u001b[0m         \u001b[0murls\u001b[0m \u001b[1;33m=\u001b[0m \u001b[0mre\u001b[0m\u001b[1;33m.\u001b[0m\u001b[0mfindall\u001b[0m\u001b[1;33m(\u001b[0m\u001b[1;34m'(https?://[^\\s]+)'\u001b[0m\u001b[1;33m,\u001b[0m \u001b[0mline\u001b[0m\u001b[1;33m)\u001b[0m\u001b[1;33m\u001b[0m\u001b[1;33m\u001b[0m\u001b[0m\n\u001b[0;32m      4\u001b[0m \u001b[1;33m\u001b[0m\u001b[0m\n\u001b[0;32m      5\u001b[0m         \u001b[0mprint\u001b[0m\u001b[1;33m(\u001b[0m\u001b[0murls\u001b[0m\u001b[1;33m)\u001b[0m\u001b[1;33m\u001b[0m\u001b[1;33m\u001b[0m\u001b[0m\n",
      "\u001b[1;31mFileNotFoundError\u001b[0m: [Errno 2] No such file or directory: '/content/url_related.txt'"
     ]
    }
   ],
   "source": [
    "with open(\"/content/url_related.txt\") as file:\n",
    "    for line in file:\n",
    "        urls = re.findall('(https?://[^\\s]+)', line)\n",
    "        \n",
    "        print(urls)"
   ]
  },
  {
   "cell_type": "code",
   "execution_count": 291,
   "id": "cef04c3b",
   "metadata": {},
   "outputs": [],
   "source": [
    "import pandas as pd\n",
    "import regex as re"
   ]
  },
  {
   "cell_type": "code",
   "execution_count": null,
   "id": "c18a73fc",
   "metadata": {},
   "outputs": [],
   "source": [
    "Pandas Series.str.contains() function is used to test if pattern or regex is contained within a string of a series(column)\n",
    "or index. The functions return boolean (True/False) series(column) or index based on whether a given pattern or regex is \n",
    "contained within a string of a series or index.\n",
    "\n",
    "syntax: Series.str.contains(pat,case=True, flags=0, na=nan, regex=True)\n",
    "    \n",
    "Parameter:\n",
    "    \n",
    "pat: character sequence or regular expression\n",
    "    \n",
    "case: if True, case sensitive.\n",
    "    \n",
    "flags: flags to pass through to the re module, re.IGNORECASE\n",
    "\n",
    "NA: Fill value for missing values\n",
    "    \n",
    "regex: if True assumes the pat is a regular expression."
   ]
  },
  {
   "cell_type": "code",
   "execution_count": 292,
   "id": "cd15b865",
   "metadata": {},
   "outputs": [
    {
     "data": {
      "text/html": [
       "<div>\n",
       "<style scoped>\n",
       "    .dataframe tbody tr th:only-of-type {\n",
       "        vertical-align: middle;\n",
       "    }\n",
       "\n",
       "    .dataframe tbody tr th {\n",
       "        vertical-align: top;\n",
       "    }\n",
       "\n",
       "    .dataframe thead th {\n",
       "        text-align: right;\n",
       "    }\n",
       "</style>\n",
       "<table border=\"1\" class=\"dataframe\">\n",
       "  <thead>\n",
       "    <tr style=\"text-align: right;\">\n",
       "      <th></th>\n",
       "      <th>City</th>\n",
       "      <th>Event</th>\n",
       "      <th>Cost</th>\n",
       "    </tr>\n",
       "  </thead>\n",
       "  <tbody>\n",
       "    <tr>\n",
       "      <th>0</th>\n",
       "      <td>New york</td>\n",
       "      <td>Music</td>\n",
       "      <td>10000</td>\n",
       "    </tr>\n",
       "    <tr>\n",
       "      <th>1</th>\n",
       "      <td>Parague</td>\n",
       "      <td>Poetry</td>\n",
       "      <td>5000</td>\n",
       "    </tr>\n",
       "    <tr>\n",
       "      <th>2</th>\n",
       "      <td>new Delhi</td>\n",
       "      <td>Theatre</td>\n",
       "      <td>15000</td>\n",
       "    </tr>\n",
       "    <tr>\n",
       "      <th>3</th>\n",
       "      <td>Venice</td>\n",
       "      <td>Comedy</td>\n",
       "      <td>2000</td>\n",
       "    </tr>\n",
       "    <tr>\n",
       "      <th>4</th>\n",
       "      <td>new Orleans</td>\n",
       "      <td>Tech_Summit</td>\n",
       "      <td>12000</td>\n",
       "    </tr>\n",
       "  </tbody>\n",
       "</table>\n",
       "</div>"
      ],
      "text/plain": [
       "          City        Event   Cost\n",
       "0     New york        Music  10000\n",
       "1      Parague       Poetry   5000\n",
       "2    new Delhi      Theatre  15000\n",
       "3       Venice       Comedy   2000\n",
       "4  new Orleans  Tech_Summit  12000"
      ]
     },
     "execution_count": 292,
     "metadata": {},
     "output_type": "execute_result"
    }
   ],
   "source": [
    "df = pd.DataFrame({'City':['New york', 'Parague', 'new Delhi', 'Venice', 'new Orleans'],\n",
    "                  'Event':['Music', 'Poetry', 'Theatre', 'Comedy', 'Tech_Summit'],\n",
    "                  'Cost': [10000, 5000, 15000, 2000, 12000]})\n",
    "\n",
    "df"
   ]
  },
  {
   "cell_type": "code",
   "execution_count": 293,
   "id": "7fe1e5eb",
   "metadata": {},
   "outputs": [
    {
     "data": {
      "text/plain": [
       "0     True\n",
       "1    False\n",
       "2     True\n",
       "3    False\n",
       "4     True\n",
       "Name: City, dtype: bool"
      ]
     },
     "execution_count": 293,
     "metadata": {},
     "output_type": "execute_result"
    }
   ],
   "source": [
    "df['City'].str.contains('^N.*', case=False)"
   ]
  },
  {
   "cell_type": "code",
   "execution_count": 294,
   "id": "22117211",
   "metadata": {},
   "outputs": [
    {
     "data": {
      "text/plain": [
       "0     True\n",
       "1    False\n",
       "2    False\n",
       "3    False\n",
       "4    False\n",
       "Name: City, dtype: bool"
      ]
     },
     "execution_count": 294,
     "metadata": {},
     "output_type": "execute_result"
    }
   ],
   "source": [
    "df['City'].str.contains('^N.*', case=True)"
   ]
  },
  {
   "cell_type": "code",
   "execution_count": 295,
   "id": "d53e0faa",
   "metadata": {},
   "outputs": [
    {
     "data": {
      "text/html": [
       "<div>\n",
       "<style scoped>\n",
       "    .dataframe tbody tr th:only-of-type {\n",
       "        vertical-align: middle;\n",
       "    }\n",
       "\n",
       "    .dataframe tbody tr th {\n",
       "        vertical-align: top;\n",
       "    }\n",
       "\n",
       "    .dataframe thead th {\n",
       "        text-align: right;\n",
       "    }\n",
       "</style>\n",
       "<table border=\"1\" class=\"dataframe\">\n",
       "  <thead>\n",
       "    <tr style=\"text-align: right;\">\n",
       "      <th></th>\n",
       "      <th>City</th>\n",
       "      <th>Event</th>\n",
       "      <th>Cost</th>\n",
       "    </tr>\n",
       "  </thead>\n",
       "  <tbody>\n",
       "    <tr>\n",
       "      <th>0</th>\n",
       "      <td>New york</td>\n",
       "      <td>Music</td>\n",
       "      <td>10000</td>\n",
       "    </tr>\n",
       "    <tr>\n",
       "      <th>2</th>\n",
       "      <td>new Delhi</td>\n",
       "      <td>Theatre</td>\n",
       "      <td>15000</td>\n",
       "    </tr>\n",
       "    <tr>\n",
       "      <th>4</th>\n",
       "      <td>new Orleans</td>\n",
       "      <td>Tech_Summit</td>\n",
       "      <td>12000</td>\n",
       "    </tr>\n",
       "  </tbody>\n",
       "</table>\n",
       "</div>"
      ],
      "text/plain": [
       "          City        Event   Cost\n",
       "0     New york        Music  10000\n",
       "2    new Delhi      Theatre  15000\n",
       "4  new Orleans  Tech_Summit  12000"
      ]
     },
     "execution_count": 295,
     "metadata": {},
     "output_type": "execute_result"
    }
   ],
   "source": [
    "df[df['City'].str.contains('^N.*', case=False)==True]"
   ]
  },
  {
   "cell_type": "code",
   "execution_count": 303,
   "id": "f252b607",
   "metadata": {},
   "outputs": [
    {
     "data": {
      "text/html": [
       "<div>\n",
       "<style scoped>\n",
       "    .dataframe tbody tr th:only-of-type {\n",
       "        vertical-align: middle;\n",
       "    }\n",
       "\n",
       "    .dataframe tbody tr th {\n",
       "        vertical-align: top;\n",
       "    }\n",
       "\n",
       "    .dataframe thead th {\n",
       "        text-align: right;\n",
       "    }\n",
       "</style>\n",
       "<table border=\"1\" class=\"dataframe\">\n",
       "  <thead>\n",
       "    <tr style=\"text-align: right;\">\n",
       "      <th></th>\n",
       "      <th>Unnamed: 0</th>\n",
       "      <th>PassengerId</th>\n",
       "      <th>Survived</th>\n",
       "      <th>Pclass</th>\n",
       "      <th>Name</th>\n",
       "      <th>Sex</th>\n",
       "      <th>Age</th>\n",
       "      <th>SibSp</th>\n",
       "      <th>Parch</th>\n",
       "      <th>Ticket</th>\n",
       "      <th>Fare</th>\n",
       "      <th>Cabin</th>\n",
       "      <th>Embarked</th>\n",
       "    </tr>\n",
       "  </thead>\n",
       "  <tbody>\n",
       "    <tr>\n",
       "      <th>0</th>\n",
       "      <td>0</td>\n",
       "      <td>1</td>\n",
       "      <td>0</td>\n",
       "      <td>3</td>\n",
       "      <td>Braund, Mr. Owen Harris</td>\n",
       "      <td>male</td>\n",
       "      <td>22.0</td>\n",
       "      <td>1</td>\n",
       "      <td>0</td>\n",
       "      <td>A/5 21171</td>\n",
       "      <td>7.2500</td>\n",
       "      <td>NaN</td>\n",
       "      <td>S</td>\n",
       "    </tr>\n",
       "    <tr>\n",
       "      <th>1</th>\n",
       "      <td>1</td>\n",
       "      <td>2</td>\n",
       "      <td>1</td>\n",
       "      <td>1</td>\n",
       "      <td>Cumings, Mrs. John Bradley (Florence Briggs Th...</td>\n",
       "      <td>female</td>\n",
       "      <td>38.0</td>\n",
       "      <td>1</td>\n",
       "      <td>0</td>\n",
       "      <td>PC 17599</td>\n",
       "      <td>71.2833</td>\n",
       "      <td>C85</td>\n",
       "      <td>C</td>\n",
       "    </tr>\n",
       "    <tr>\n",
       "      <th>2</th>\n",
       "      <td>2</td>\n",
       "      <td>3</td>\n",
       "      <td>1</td>\n",
       "      <td>3</td>\n",
       "      <td>Heikkinen, Miss. Laina</td>\n",
       "      <td>female</td>\n",
       "      <td>26.0</td>\n",
       "      <td>0</td>\n",
       "      <td>0</td>\n",
       "      <td>STON/O2. 3101282</td>\n",
       "      <td>7.9250</td>\n",
       "      <td>NaN</td>\n",
       "      <td>S</td>\n",
       "    </tr>\n",
       "    <tr>\n",
       "      <th>3</th>\n",
       "      <td>3</td>\n",
       "      <td>4</td>\n",
       "      <td>1</td>\n",
       "      <td>1</td>\n",
       "      <td>Futrelle, Mrs. Jacques Heath (Lily May Peel)</td>\n",
       "      <td>female</td>\n",
       "      <td>35.0</td>\n",
       "      <td>1</td>\n",
       "      <td>0</td>\n",
       "      <td>113803</td>\n",
       "      <td>53.1000</td>\n",
       "      <td>C123</td>\n",
       "      <td>S</td>\n",
       "    </tr>\n",
       "    <tr>\n",
       "      <th>4</th>\n",
       "      <td>4</td>\n",
       "      <td>5</td>\n",
       "      <td>0</td>\n",
       "      <td>3</td>\n",
       "      <td>Allen, Mr. William Henry</td>\n",
       "      <td>male</td>\n",
       "      <td>35.0</td>\n",
       "      <td>0</td>\n",
       "      <td>0</td>\n",
       "      <td>373450</td>\n",
       "      <td>8.0500</td>\n",
       "      <td>NaN</td>\n",
       "      <td>S</td>\n",
       "    </tr>\n",
       "  </tbody>\n",
       "</table>\n",
       "</div>"
      ],
      "text/plain": [
       "   Unnamed: 0  PassengerId  Survived  Pclass  \\\n",
       "0           0            1         0       3   \n",
       "1           1            2         1       1   \n",
       "2           2            3         1       3   \n",
       "3           3            4         1       1   \n",
       "4           4            5         0       3   \n",
       "\n",
       "                                                Name     Sex   Age  SibSp  \\\n",
       "0                            Braund, Mr. Owen Harris    male  22.0      1   \n",
       "1  Cumings, Mrs. John Bradley (Florence Briggs Th...  female  38.0      1   \n",
       "2                             Heikkinen, Miss. Laina  female  26.0      0   \n",
       "3       Futrelle, Mrs. Jacques Heath (Lily May Peel)  female  35.0      1   \n",
       "4                           Allen, Mr. William Henry    male  35.0      0   \n",
       "\n",
       "   Parch            Ticket     Fare Cabin Embarked  \n",
       "0      0         A/5 21171   7.2500   NaN        S  \n",
       "1      0          PC 17599  71.2833   C85        C  \n",
       "2      0  STON/O2. 3101282   7.9250   NaN        S  \n",
       "3      0            113803  53.1000  C123        S  \n",
       "4      0            373450   8.0500   NaN        S  "
      ]
     },
     "execution_count": 303,
     "metadata": {},
     "output_type": "execute_result"
    }
   ],
   "source": [
    "df = pd.read_csv('titanic_train')\n",
    "\n",
    "df.head()"
   ]
  },
  {
   "cell_type": "code",
   "execution_count": 305,
   "id": "09384bb8",
   "metadata": {},
   "outputs": [],
   "source": [
    "df.drop(['Unnamed: 0'], axis = 1, inplace = True)"
   ]
  },
  {
   "cell_type": "code",
   "execution_count": 306,
   "id": "5782a5bf",
   "metadata": {},
   "outputs": [
    {
     "data": {
      "text/html": [
       "<div>\n",
       "<style scoped>\n",
       "    .dataframe tbody tr th:only-of-type {\n",
       "        vertical-align: middle;\n",
       "    }\n",
       "\n",
       "    .dataframe tbody tr th {\n",
       "        vertical-align: top;\n",
       "    }\n",
       "\n",
       "    .dataframe thead th {\n",
       "        text-align: right;\n",
       "    }\n",
       "</style>\n",
       "<table border=\"1\" class=\"dataframe\">\n",
       "  <thead>\n",
       "    <tr style=\"text-align: right;\">\n",
       "      <th></th>\n",
       "      <th>PassengerId</th>\n",
       "      <th>Survived</th>\n",
       "      <th>Pclass</th>\n",
       "      <th>Name</th>\n",
       "      <th>Sex</th>\n",
       "      <th>Age</th>\n",
       "      <th>SibSp</th>\n",
       "      <th>Parch</th>\n",
       "      <th>Ticket</th>\n",
       "      <th>Fare</th>\n",
       "      <th>Cabin</th>\n",
       "      <th>Embarked</th>\n",
       "    </tr>\n",
       "  </thead>\n",
       "  <tbody>\n",
       "    <tr>\n",
       "      <th>0</th>\n",
       "      <td>1</td>\n",
       "      <td>0</td>\n",
       "      <td>3</td>\n",
       "      <td>Braund, Mr. Owen Harris</td>\n",
       "      <td>male</td>\n",
       "      <td>22.0</td>\n",
       "      <td>1</td>\n",
       "      <td>0</td>\n",
       "      <td>A/5 21171</td>\n",
       "      <td>7.2500</td>\n",
       "      <td>NaN</td>\n",
       "      <td>S</td>\n",
       "    </tr>\n",
       "    <tr>\n",
       "      <th>1</th>\n",
       "      <td>2</td>\n",
       "      <td>1</td>\n",
       "      <td>1</td>\n",
       "      <td>Cumings, Mrs. John Bradley (Florence Briggs Th...</td>\n",
       "      <td>female</td>\n",
       "      <td>38.0</td>\n",
       "      <td>1</td>\n",
       "      <td>0</td>\n",
       "      <td>PC 17599</td>\n",
       "      <td>71.2833</td>\n",
       "      <td>C85</td>\n",
       "      <td>C</td>\n",
       "    </tr>\n",
       "    <tr>\n",
       "      <th>2</th>\n",
       "      <td>3</td>\n",
       "      <td>1</td>\n",
       "      <td>3</td>\n",
       "      <td>Heikkinen, Miss. Laina</td>\n",
       "      <td>female</td>\n",
       "      <td>26.0</td>\n",
       "      <td>0</td>\n",
       "      <td>0</td>\n",
       "      <td>STON/O2. 3101282</td>\n",
       "      <td>7.9250</td>\n",
       "      <td>NaN</td>\n",
       "      <td>S</td>\n",
       "    </tr>\n",
       "    <tr>\n",
       "      <th>3</th>\n",
       "      <td>4</td>\n",
       "      <td>1</td>\n",
       "      <td>1</td>\n",
       "      <td>Futrelle, Mrs. Jacques Heath (Lily May Peel)</td>\n",
       "      <td>female</td>\n",
       "      <td>35.0</td>\n",
       "      <td>1</td>\n",
       "      <td>0</td>\n",
       "      <td>113803</td>\n",
       "      <td>53.1000</td>\n",
       "      <td>C123</td>\n",
       "      <td>S</td>\n",
       "    </tr>\n",
       "    <tr>\n",
       "      <th>4</th>\n",
       "      <td>5</td>\n",
       "      <td>0</td>\n",
       "      <td>3</td>\n",
       "      <td>Allen, Mr. William Henry</td>\n",
       "      <td>male</td>\n",
       "      <td>35.0</td>\n",
       "      <td>0</td>\n",
       "      <td>0</td>\n",
       "      <td>373450</td>\n",
       "      <td>8.0500</td>\n",
       "      <td>NaN</td>\n",
       "      <td>S</td>\n",
       "    </tr>\n",
       "  </tbody>\n",
       "</table>\n",
       "</div>"
      ],
      "text/plain": [
       "   PassengerId  Survived  Pclass  \\\n",
       "0            1         0       3   \n",
       "1            2         1       1   \n",
       "2            3         1       3   \n",
       "3            4         1       1   \n",
       "4            5         0       3   \n",
       "\n",
       "                                                Name     Sex   Age  SibSp  \\\n",
       "0                            Braund, Mr. Owen Harris    male  22.0      1   \n",
       "1  Cumings, Mrs. John Bradley (Florence Briggs Th...  female  38.0      1   \n",
       "2                             Heikkinen, Miss. Laina  female  26.0      0   \n",
       "3       Futrelle, Mrs. Jacques Heath (Lily May Peel)  female  35.0      1   \n",
       "4                           Allen, Mr. William Henry    male  35.0      0   \n",
       "\n",
       "   Parch            Ticket     Fare Cabin Embarked  \n",
       "0      0         A/5 21171   7.2500   NaN        S  \n",
       "1      0          PC 17599  71.2833   C85        C  \n",
       "2      0  STON/O2. 3101282   7.9250   NaN        S  \n",
       "3      0            113803  53.1000  C123        S  \n",
       "4      0            373450   8.0500   NaN        S  "
      ]
     },
     "execution_count": 306,
     "metadata": {},
     "output_type": "execute_result"
    }
   ],
   "source": [
    "df.head()"
   ]
  },
  {
   "cell_type": "code",
   "execution_count": null,
   "id": "937e90e1",
   "metadata": {},
   "outputs": [],
   "source": [
    "# 1.Filtering a DataFrame s.str.contains(pattern)"
   ]
  },
  {
   "cell_type": "code",
   "execution_count": 308,
   "id": "c6acc700",
   "metadata": {},
   "outputs": [
    {
     "data": {
      "text/html": [
       "<div>\n",
       "<style scoped>\n",
       "    .dataframe tbody tr th:only-of-type {\n",
       "        vertical-align: middle;\n",
       "    }\n",
       "\n",
       "    .dataframe tbody tr th {\n",
       "        vertical-align: top;\n",
       "    }\n",
       "\n",
       "    .dataframe thead th {\n",
       "        text-align: right;\n",
       "    }\n",
       "</style>\n",
       "<table border=\"1\" class=\"dataframe\">\n",
       "  <thead>\n",
       "    <tr style=\"text-align: right;\">\n",
       "      <th></th>\n",
       "      <th>PassengerId</th>\n",
       "      <th>Survived</th>\n",
       "      <th>Pclass</th>\n",
       "      <th>Name</th>\n",
       "      <th>Sex</th>\n",
       "      <th>Age</th>\n",
       "      <th>SibSp</th>\n",
       "      <th>Parch</th>\n",
       "      <th>Ticket</th>\n",
       "      <th>Fare</th>\n",
       "      <th>Cabin</th>\n",
       "      <th>Embarked</th>\n",
       "    </tr>\n",
       "  </thead>\n",
       "  <tbody>\n",
       "    <tr>\n",
       "      <th>17</th>\n",
       "      <td>18</td>\n",
       "      <td>1</td>\n",
       "      <td>2</td>\n",
       "      <td>Williams, Mr. Charles Eugene</td>\n",
       "      <td>male</td>\n",
       "      <td>NaN</td>\n",
       "      <td>0</td>\n",
       "      <td>0</td>\n",
       "      <td>244373</td>\n",
       "      <td>13.0000</td>\n",
       "      <td>NaN</td>\n",
       "      <td>S</td>\n",
       "    </tr>\n",
       "    <tr>\n",
       "      <th>33</th>\n",
       "      <td>34</td>\n",
       "      <td>0</td>\n",
       "      <td>2</td>\n",
       "      <td>Wheadon, Mr. Edward H</td>\n",
       "      <td>male</td>\n",
       "      <td>66.0</td>\n",
       "      <td>0</td>\n",
       "      <td>0</td>\n",
       "      <td>C.A. 24579</td>\n",
       "      <td>10.5000</td>\n",
       "      <td>NaN</td>\n",
       "      <td>S</td>\n",
       "    </tr>\n",
       "    <tr>\n",
       "      <th>55</th>\n",
       "      <td>56</td>\n",
       "      <td>1</td>\n",
       "      <td>1</td>\n",
       "      <td>Woolner, Mr. Hugh</td>\n",
       "      <td>male</td>\n",
       "      <td>NaN</td>\n",
       "      <td>0</td>\n",
       "      <td>0</td>\n",
       "      <td>19947</td>\n",
       "      <td>35.5000</td>\n",
       "      <td>C52</td>\n",
       "      <td>S</td>\n",
       "    </tr>\n",
       "    <tr>\n",
       "      <th>58</th>\n",
       "      <td>59</td>\n",
       "      <td>1</td>\n",
       "      <td>2</td>\n",
       "      <td>West, Miss. Constance Mirium</td>\n",
       "      <td>female</td>\n",
       "      <td>5.0</td>\n",
       "      <td>1</td>\n",
       "      <td>2</td>\n",
       "      <td>C.A. 34651</td>\n",
       "      <td>27.7500</td>\n",
       "      <td>NaN</td>\n",
       "      <td>S</td>\n",
       "    </tr>\n",
       "    <tr>\n",
       "      <th>80</th>\n",
       "      <td>81</td>\n",
       "      <td>0</td>\n",
       "      <td>3</td>\n",
       "      <td>Waelens, Mr. Achille</td>\n",
       "      <td>male</td>\n",
       "      <td>22.0</td>\n",
       "      <td>0</td>\n",
       "      <td>0</td>\n",
       "      <td>345767</td>\n",
       "      <td>9.0000</td>\n",
       "      <td>NaN</td>\n",
       "      <td>S</td>\n",
       "    </tr>\n",
       "    <tr>\n",
       "      <th>123</th>\n",
       "      <td>124</td>\n",
       "      <td>1</td>\n",
       "      <td>2</td>\n",
       "      <td>Webber, Miss. Susan</td>\n",
       "      <td>female</td>\n",
       "      <td>32.5</td>\n",
       "      <td>0</td>\n",
       "      <td>0</td>\n",
       "      <td>27267</td>\n",
       "      <td>13.0000</td>\n",
       "      <td>E101</td>\n",
       "      <td>S</td>\n",
       "    </tr>\n",
       "    <tr>\n",
       "      <th>124</th>\n",
       "      <td>125</td>\n",
       "      <td>0</td>\n",
       "      <td>1</td>\n",
       "      <td>White, Mr. Percival Wayland</td>\n",
       "      <td>male</td>\n",
       "      <td>54.0</td>\n",
       "      <td>0</td>\n",
       "      <td>1</td>\n",
       "      <td>35281</td>\n",
       "      <td>77.2875</td>\n",
       "      <td>D26</td>\n",
       "      <td>S</td>\n",
       "    </tr>\n",
       "    <tr>\n",
       "      <th>133</th>\n",
       "      <td>134</td>\n",
       "      <td>1</td>\n",
       "      <td>2</td>\n",
       "      <td>Weisz, Mrs. Leopold (Mathilde Francoise Pede)</td>\n",
       "      <td>female</td>\n",
       "      <td>29.0</td>\n",
       "      <td>1</td>\n",
       "      <td>0</td>\n",
       "      <td>228414</td>\n",
       "      <td>26.0000</td>\n",
       "      <td>NaN</td>\n",
       "      <td>S</td>\n",
       "    </tr>\n",
       "    <tr>\n",
       "      <th>155</th>\n",
       "      <td>156</td>\n",
       "      <td>0</td>\n",
       "      <td>1</td>\n",
       "      <td>Williams, Mr. Charles Duane</td>\n",
       "      <td>male</td>\n",
       "      <td>51.0</td>\n",
       "      <td>0</td>\n",
       "      <td>1</td>\n",
       "      <td>PC 17597</td>\n",
       "      <td>61.3792</td>\n",
       "      <td>NaN</td>\n",
       "      <td>C</td>\n",
       "    </tr>\n",
       "    <tr>\n",
       "      <th>161</th>\n",
       "      <td>162</td>\n",
       "      <td>1</td>\n",
       "      <td>2</td>\n",
       "      <td>Watt, Mrs. James (Elizabeth \"Bessie\" Inglis Mi...</td>\n",
       "      <td>female</td>\n",
       "      <td>40.0</td>\n",
       "      <td>0</td>\n",
       "      <td>0</td>\n",
       "      <td>C.A. 33595</td>\n",
       "      <td>15.7500</td>\n",
       "      <td>NaN</td>\n",
       "      <td>S</td>\n",
       "    </tr>\n",
       "  </tbody>\n",
       "</table>\n",
       "</div>"
      ],
      "text/plain": [
       "     PassengerId  Survived  Pclass  \\\n",
       "17            18         1       2   \n",
       "33            34         0       2   \n",
       "55            56         1       1   \n",
       "58            59         1       2   \n",
       "80            81         0       3   \n",
       "123          124         1       2   \n",
       "124          125         0       1   \n",
       "133          134         1       2   \n",
       "155          156         0       1   \n",
       "161          162         1       2   \n",
       "\n",
       "                                                  Name     Sex   Age  SibSp  \\\n",
       "17                        Williams, Mr. Charles Eugene    male   NaN      0   \n",
       "33                               Wheadon, Mr. Edward H    male  66.0      0   \n",
       "55                                   Woolner, Mr. Hugh    male   NaN      0   \n",
       "58                        West, Miss. Constance Mirium  female   5.0      1   \n",
       "80                                Waelens, Mr. Achille    male  22.0      0   \n",
       "123                                Webber, Miss. Susan  female  32.5      0   \n",
       "124                        White, Mr. Percival Wayland    male  54.0      0   \n",
       "133      Weisz, Mrs. Leopold (Mathilde Francoise Pede)  female  29.0      1   \n",
       "155                        Williams, Mr. Charles Duane    male  51.0      0   \n",
       "161  Watt, Mrs. James (Elizabeth \"Bessie\" Inglis Mi...  female  40.0      0   \n",
       "\n",
       "     Parch      Ticket     Fare Cabin Embarked  \n",
       "17       0      244373  13.0000   NaN        S  \n",
       "33       0  C.A. 24579  10.5000   NaN        S  \n",
       "55       0       19947  35.5000   C52        S  \n",
       "58       2  C.A. 34651  27.7500   NaN        S  \n",
       "80       0      345767   9.0000   NaN        S  \n",
       "123      0       27267  13.0000  E101        S  \n",
       "124      1       35281  77.2875   D26        S  \n",
       "133      0      228414  26.0000   NaN        S  \n",
       "155      1    PC 17597  61.3792   NaN        C  \n",
       "161      0  C.A. 33595  15.7500   NaN        S  "
      ]
     },
     "execution_count": 308,
     "metadata": {},
     "output_type": "execute_result"
    }
   ],
   "source": [
    "pattern = r'^W.*n'         # start with capital W and followed by anything but conataining 'n'\n",
    "\n",
    "mask = df['Name'].str.contains(pattern)\n",
    "\n",
    "df[mask].head(10)"
   ]
  },
  {
   "cell_type": "code",
   "execution_count": 309,
   "id": "16df55f9",
   "metadata": {},
   "outputs": [
    {
     "data": {
      "text/html": [
       "<div>\n",
       "<style scoped>\n",
       "    .dataframe tbody tr th:only-of-type {\n",
       "        vertical-align: middle;\n",
       "    }\n",
       "\n",
       "    .dataframe tbody tr th {\n",
       "        vertical-align: top;\n",
       "    }\n",
       "\n",
       "    .dataframe thead th {\n",
       "        text-align: right;\n",
       "    }\n",
       "</style>\n",
       "<table border=\"1\" class=\"dataframe\">\n",
       "  <thead>\n",
       "    <tr style=\"text-align: right;\">\n",
       "      <th></th>\n",
       "      <th>PassengerId</th>\n",
       "      <th>Survived</th>\n",
       "      <th>Pclass</th>\n",
       "      <th>Name</th>\n",
       "      <th>Sex</th>\n",
       "      <th>Age</th>\n",
       "      <th>SibSp</th>\n",
       "      <th>Parch</th>\n",
       "      <th>Ticket</th>\n",
       "      <th>Fare</th>\n",
       "      <th>Cabin</th>\n",
       "      <th>Embarked</th>\n",
       "    </tr>\n",
       "  </thead>\n",
       "  <tbody>\n",
       "    <tr>\n",
       "      <th>33</th>\n",
       "      <td>34</td>\n",
       "      <td>0</td>\n",
       "      <td>2</td>\n",
       "      <td>Wheadon, Mr. Edward H</td>\n",
       "      <td>male</td>\n",
       "      <td>66.0</td>\n",
       "      <td>0</td>\n",
       "      <td>0</td>\n",
       "      <td>C.A. 24579</td>\n",
       "      <td>10.500</td>\n",
       "      <td>NaN</td>\n",
       "      <td>S</td>\n",
       "    </tr>\n",
       "    <tr>\n",
       "      <th>56</th>\n",
       "      <td>57</td>\n",
       "      <td>1</td>\n",
       "      <td>2</td>\n",
       "      <td>Rugg, Miss. Emily</td>\n",
       "      <td>female</td>\n",
       "      <td>21.0</td>\n",
       "      <td>0</td>\n",
       "      <td>0</td>\n",
       "      <td>C.A. 31026</td>\n",
       "      <td>10.500</td>\n",
       "      <td>NaN</td>\n",
       "      <td>S</td>\n",
       "    </tr>\n",
       "    <tr>\n",
       "      <th>58</th>\n",
       "      <td>59</td>\n",
       "      <td>1</td>\n",
       "      <td>2</td>\n",
       "      <td>West, Miss. Constance Mirium</td>\n",
       "      <td>female</td>\n",
       "      <td>5.0</td>\n",
       "      <td>1</td>\n",
       "      <td>2</td>\n",
       "      <td>C.A. 34651</td>\n",
       "      <td>27.750</td>\n",
       "      <td>NaN</td>\n",
       "      <td>S</td>\n",
       "    </tr>\n",
       "    <tr>\n",
       "      <th>59</th>\n",
       "      <td>60</td>\n",
       "      <td>0</td>\n",
       "      <td>3</td>\n",
       "      <td>Goodwin, Master. William Frederick</td>\n",
       "      <td>male</td>\n",
       "      <td>11.0</td>\n",
       "      <td>5</td>\n",
       "      <td>2</td>\n",
       "      <td>CA 2144</td>\n",
       "      <td>46.900</td>\n",
       "      <td>NaN</td>\n",
       "      <td>S</td>\n",
       "    </tr>\n",
       "    <tr>\n",
       "      <th>66</th>\n",
       "      <td>67</td>\n",
       "      <td>1</td>\n",
       "      <td>2</td>\n",
       "      <td>Nye, Mrs. (Elizabeth Ramell)</td>\n",
       "      <td>female</td>\n",
       "      <td>29.0</td>\n",
       "      <td>0</td>\n",
       "      <td>0</td>\n",
       "      <td>C.A. 29395</td>\n",
       "      <td>10.500</td>\n",
       "      <td>F33</td>\n",
       "      <td>S</td>\n",
       "    </tr>\n",
       "    <tr>\n",
       "      <th>70</th>\n",
       "      <td>71</td>\n",
       "      <td>0</td>\n",
       "      <td>2</td>\n",
       "      <td>Jenkin, Mr. Stephen Curnow</td>\n",
       "      <td>male</td>\n",
       "      <td>32.0</td>\n",
       "      <td>0</td>\n",
       "      <td>0</td>\n",
       "      <td>C.A. 33111</td>\n",
       "      <td>10.500</td>\n",
       "      <td>NaN</td>\n",
       "      <td>S</td>\n",
       "    </tr>\n",
       "    <tr>\n",
       "      <th>71</th>\n",
       "      <td>72</td>\n",
       "      <td>0</td>\n",
       "      <td>3</td>\n",
       "      <td>Goodwin, Miss. Lillian Amy</td>\n",
       "      <td>female</td>\n",
       "      <td>16.0</td>\n",
       "      <td>5</td>\n",
       "      <td>2</td>\n",
       "      <td>CA 2144</td>\n",
       "      <td>46.900</td>\n",
       "      <td>NaN</td>\n",
       "      <td>S</td>\n",
       "    </tr>\n",
       "    <tr>\n",
       "      <th>93</th>\n",
       "      <td>94</td>\n",
       "      <td>0</td>\n",
       "      <td>3</td>\n",
       "      <td>Dean, Mr. Bertram Frank</td>\n",
       "      <td>male</td>\n",
       "      <td>26.0</td>\n",
       "      <td>1</td>\n",
       "      <td>2</td>\n",
       "      <td>C.A. 2315</td>\n",
       "      <td>20.575</td>\n",
       "      <td>NaN</td>\n",
       "      <td>S</td>\n",
       "    </tr>\n",
       "    <tr>\n",
       "      <th>134</th>\n",
       "      <td>135</td>\n",
       "      <td>0</td>\n",
       "      <td>2</td>\n",
       "      <td>Sobey, Mr. Samuel James Hayden</td>\n",
       "      <td>male</td>\n",
       "      <td>25.0</td>\n",
       "      <td>0</td>\n",
       "      <td>0</td>\n",
       "      <td>C.A. 29178</td>\n",
       "      <td>13.000</td>\n",
       "      <td>NaN</td>\n",
       "      <td>S</td>\n",
       "    </tr>\n",
       "    <tr>\n",
       "      <th>145</th>\n",
       "      <td>146</td>\n",
       "      <td>0</td>\n",
       "      <td>2</td>\n",
       "      <td>Nicholls, Mr. Joseph Charles</td>\n",
       "      <td>male</td>\n",
       "      <td>19.0</td>\n",
       "      <td>1</td>\n",
       "      <td>1</td>\n",
       "      <td>C.A. 33112</td>\n",
       "      <td>36.750</td>\n",
       "      <td>NaN</td>\n",
       "      <td>S</td>\n",
       "    </tr>\n",
       "  </tbody>\n",
       "</table>\n",
       "</div>"
      ],
      "text/plain": [
       "     PassengerId  Survived  Pclass                                Name  \\\n",
       "33            34         0       2               Wheadon, Mr. Edward H   \n",
       "56            57         1       2                   Rugg, Miss. Emily   \n",
       "58            59         1       2        West, Miss. Constance Mirium   \n",
       "59            60         0       3  Goodwin, Master. William Frederick   \n",
       "66            67         1       2        Nye, Mrs. (Elizabeth Ramell)   \n",
       "70            71         0       2          Jenkin, Mr. Stephen Curnow   \n",
       "71            72         0       3          Goodwin, Miss. Lillian Amy   \n",
       "93            94         0       3             Dean, Mr. Bertram Frank   \n",
       "134          135         0       2      Sobey, Mr. Samuel James Hayden   \n",
       "145          146         0       2        Nicholls, Mr. Joseph Charles   \n",
       "\n",
       "        Sex   Age  SibSp  Parch      Ticket    Fare Cabin Embarked  \n",
       "33     male  66.0      0      0  C.A. 24579  10.500   NaN        S  \n",
       "56   female  21.0      0      0  C.A. 31026  10.500   NaN        S  \n",
       "58   female   5.0      1      2  C.A. 34651  27.750   NaN        S  \n",
       "59     male  11.0      5      2     CA 2144  46.900   NaN        S  \n",
       "66   female  29.0      0      0  C.A. 29395  10.500   F33        S  \n",
       "70     male  32.0      0      0  C.A. 33111  10.500   NaN        S  \n",
       "71   female  16.0      5      2     CA 2144  46.900   NaN        S  \n",
       "93     male  26.0      1      2   C.A. 2315  20.575   NaN        S  \n",
       "134    male  25.0      0      0  C.A. 29178  13.000   NaN        S  \n",
       "145    male  19.0      1      1  C.A. 33112  36.750   NaN        S  "
      ]
     },
     "execution_count": 309,
     "metadata": {},
     "output_type": "execute_result"
    }
   ],
   "source": [
    "pattern = r'C\\.?A\\.?'\n",
    "\n",
    "mask = df['Ticket'].str.contains(pattern)\n",
    "\n",
    "df[mask].head(10)"
   ]
  },
  {
   "cell_type": "code",
   "execution_count": null,
   "id": "96ed86f2",
   "metadata": {},
   "outputs": [],
   "source": [
    "# 2. Pandas Series.str.extract() : function is used to extract capture groups in the regex pattern as columns in a \n",
    "# DataFrame. for each subject string in the series, extract groups from the first match of regular expression.\n",
    "\n",
    "syntax: Series.str.extract(pat, flags=0, expand=True)\n",
    "    \n",
    "expand = if true, return dataframe with one column per capture group"
   ]
  },
  {
   "cell_type": "code",
   "execution_count": 310,
   "id": "3c55bc73",
   "metadata": {},
   "outputs": [
    {
     "data": {
      "text/plain": [
       "501                        Canavan, Miss. Mary\n",
       "15            Hewlett, Mrs. (Mary D Kingcome) \n",
       "850    Andersson, Master. Sigvard Harald Elias\n",
       "4                     Allen, Mr. William Henry\n",
       "333            Vander Planke, Mr. Leo Edmondus\n",
       "Name: Name, dtype: object"
      ]
     },
     "execution_count": 310,
     "metadata": {},
     "output_type": "execute_result"
    }
   ],
   "source": [
    "df['Name'].sample(5)"
   ]
  },
  {
   "cell_type": "code",
   "execution_count": null,
   "id": "7eef4b18",
   "metadata": {},
   "outputs": [],
   "source": [
    "extract all unique titles such as Mr, Mrs, Miss from passenger name"
   ]
  },
  {
   "cell_type": "code",
   "execution_count": 313,
   "id": "47da2e1d",
   "metadata": {},
   "outputs": [
    {
     "data": {
      "text/plain": [
       "Mr          517\n",
       "Miss        182\n",
       "Mrs         125\n",
       "Master       40\n",
       "Dr            7\n",
       "Rev           6\n",
       "Mlle          2\n",
       "Major         2\n",
       "Col           2\n",
       "Countess      1\n",
       "Capt          1\n",
       "Ms            1\n",
       "Sir           1\n",
       "Lady          1\n",
       "Mme           1\n",
       "Don           1\n",
       "Jonkheer      1\n",
       "Name: Name, dtype: int64"
      ]
     },
     "execution_count": 313,
     "metadata": {},
     "output_type": "execute_result"
    }
   ],
   "source": [
    "pattern = '\\s(\\w+)\\.'\n",
    "all_ts = df['Name'].str.extract(pattern, expand= False)\n",
    "\n",
    "unique_ts = all_ts.value_counts()\n",
    "\n",
    "unique_ts"
   ]
  },
  {
   "cell_type": "code",
   "execution_count": 314,
   "id": "462d61b6",
   "metadata": {},
   "outputs": [
    {
     "data": {
      "text/plain": [
       "0                              Braund, Mr. Owen Harris\n",
       "1    Cumings, Mrs. John Bradley (Florence Briggs Th...\n",
       "2                               Heikkinen, Miss. Laina\n",
       "3         Futrelle, Mrs. Jacques Heath (Lily May Peel)\n",
       "4                             Allen, Mr. William Henry\n",
       "5                                     Moran, Mr. James\n",
       "6                              McCarthy, Mr. Timothy J\n",
       "7                       Palsson, Master. Gosta Leonard\n",
       "8    Johnson, Mrs. Oscar W (Elisabeth Vilhelmina Berg)\n",
       "9                  Nasser, Mrs. Nicholas (Adele Achem)\n",
       "Name: Name, dtype: object"
      ]
     },
     "execution_count": 314,
     "metadata": {},
     "output_type": "execute_result"
    }
   ],
   "source": [
    "df['Name'].head(10)"
   ]
  },
  {
   "cell_type": "code",
   "execution_count": null,
   "id": "bc55b7fc",
   "metadata": {},
   "outputs": [],
   "source": [
    "# 3. Pandas Series.str.replace() : Function is used to replace each occurance of pattern/regex in the series/index\n",
    "\n",
    "syntax: Series.str.replace(pat,repl,n=1, case=None, flags=0, regex=True)\n",
    "    \n",
    "n: The maximum number of replacements to make. by default there is no limit as to how many replacements are made.\n",
    "    \n",
    "replacing value in a column - s.str.replace(pattern, repl)\n",
    "\n",
    "Replace all the title with capital letters."
   ]
  },
  {
   "cell_type": "code",
   "execution_count": 315,
   "id": "407f5dfa",
   "metadata": {},
   "outputs": [
    {
     "data": {
      "text/plain": [
       "0                                Braund, MR. Owen Harris\n",
       "1      Cumings, MRS. John Bradley (Florence Briggs Th...\n",
       "2                                 Heikkinen, MISS. Laina\n",
       "3           Futrelle, MRS. Jacques Heath (Lily May Peel)\n",
       "4                               Allen, MR. William Henry\n",
       "                             ...                        \n",
       "886                                Montvila, REV. Juozas\n",
       "887                         Graham, MISS. Margaret Edith\n",
       "888             Johnston, MISS. Catherine Helen \"Carrie\"\n",
       "889                                Behr, MR. Karl Howell\n",
       "890                                  Dooley, MR. Patrick\n",
       "Name: Name, Length: 891, dtype: object"
      ]
     },
     "execution_count": 315,
     "metadata": {},
     "output_type": "execute_result"
    }
   ],
   "source": [
    "pattern = r'\\s(\\w+)\\.'\n",
    "df['Name'].str.replace(pattern, lambda m:m.group().upper(), regex= True)"
   ]
  },
  {
   "cell_type": "code",
   "execution_count": null,
   "id": "281acf17",
   "metadata": {},
   "outputs": [],
   "source": []
  },
  {
   "cell_type": "code",
   "execution_count": null,
   "id": "1e5e082f",
   "metadata": {},
   "outputs": [],
   "source": []
  },
  {
   "cell_type": "code",
   "execution_count": null,
   "id": "f62c9a83",
   "metadata": {},
   "outputs": [],
   "source": []
  },
  {
   "cell_type": "code",
   "execution_count": null,
   "id": "66eb724b",
   "metadata": {},
   "outputs": [],
   "source": []
  },
  {
   "cell_type": "code",
   "execution_count": null,
   "id": "2fac3058",
   "metadata": {},
   "outputs": [],
   "source": []
  }
 ],
 "metadata": {
  "kernelspec": {
   "display_name": "Python 3 (ipykernel)",
   "language": "python",
   "name": "python3"
  },
  "language_info": {
   "codemirror_mode": {
    "name": "ipython",
    "version": 3
   },
   "file_extension": ".py",
   "mimetype": "text/x-python",
   "name": "python",
   "nbconvert_exporter": "python",
   "pygments_lexer": "ipython3",
   "version": "3.9.13"
  }
 },
 "nbformat": 4,
 "nbformat_minor": 5
}
