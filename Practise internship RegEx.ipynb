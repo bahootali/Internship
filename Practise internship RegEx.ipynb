{
 "cells": [
  {
   "cell_type": "code",
   "execution_count": 1,
   "id": "43b437c3",
   "metadata": {},
   "outputs": [],
   "source": [
    "import regex as re"
   ]
  },
  {
   "cell_type": "code",
   "execution_count": 2,
   "id": "a2d3aa59",
   "metadata": {},
   "outputs": [
    {
     "name": "stdout",
     "output_type": "stream",
     "text": [
      "Python:Exercises::PHP:exercises:\n"
     ]
    }
   ],
   "source": [
    "# Q-1. Write a Python program to replace all occurrences of a space, comma, or dot with a colon\n",
    "\n",
    "text = 'Python Exercises, PHP exercises.'\n",
    "replace = re.sub(r'[\\s,.]', ':', text)        \n",
    "\n",
    "print(replace)"
   ]
  },
  {
   "cell_type": "code",
   "execution_count": 3,
   "id": "9e7e111e",
   "metadata": {},
   "outputs": [],
   "source": [
    "import pandas as pd"
   ]
  },
  {
   "cell_type": "code",
   "execution_count": 30,
   "id": "57af4e72",
   "metadata": {},
   "outputs": [
    {
     "name": "stdout",
     "output_type": "stream",
     "text": [
      "         SUMMARY\n",
      "0    hello world\n",
      "1           test\n",
      "2  four five six\n"
     ]
    }
   ],
   "source": [
    "# Q-2.Create a dataframe using the dictionary below and remove everything (commas (,), !, XXXX, ;, etc.) \n",
    "#from the columns except words.\n",
    "\n",
    "text = {'SUMMARY' :['hello, world!', 'XXXXX test', '123four, five:; six...']}\n",
    "\n",
    "df = pd.DataFrame(text)\n",
    "\n",
    "df['SUMMARY'] = df['SUMMARY'].str.replace(r'X|[^a-zA-Z\\s]', '', regex=True)\n",
    "\n",
    "print(df)"
   ]
  },
  {
   "cell_type": "code",
   "execution_count": 50,
   "id": "e91a3b0c",
   "metadata": {},
   "outputs": [
    {
     "name": "stdout",
     "output_type": "stream",
     "text": [
      "['Create', 'function', 'python', 'find', 'words', 'that', 'least', 'characters', 'long', 'string']\n"
     ]
    }
   ],
   "source": [
    "# Q-3.Create a function in python to find all words that are at least 4 characters long in a string. \n",
    "#The use of the re.compile() method is mandatory.\n",
    "\n",
    "text = 'Create a function in python to find all words that are at least 4 characters long in a string'\n",
    "pattern = re.compile(r'\\b\\w{4,}\\b')\n",
    "\n",
    "matches = re.findall(pattern, text)\n",
    "\n",
    "print(matches)"
   ]
  },
  {
   "cell_type": "code",
   "execution_count": 51,
   "id": "cc984296",
   "metadata": {},
   "outputs": [
    {
     "name": "stdout",
     "output_type": "stream",
     "text": [
      "['find', 'all', 'words', 'that', 'are', 'least', 'long']\n"
     ]
    }
   ],
   "source": [
    "# Q-4.Create a function in python to find all three, four, and five character words in a string. \n",
    "#The use of the re.compile() method is mandatory.\n",
    "\n",
    "text = 'Create a function in python to find all words that are at least 4 characters long in a string'\n",
    "pattern = re.compile(r'\\b\\w{3,5}\\b')\n",
    "\n",
    "matches = re.findall(pattern, text)\n",
    "\n",
    "print(matches)"
   ]
  },
  {
   "cell_type": "code",
   "execution_count": 86,
   "id": "e48ecf51",
   "metadata": {},
   "outputs": [
    {
     "name": "stdout",
     "output_type": "stream",
     "text": [
      "['example .com', 'hr@fliprobo .com', 'github .com', 'Hello Data Science World', 'Data Scientist']\n"
     ]
    }
   ],
   "source": [
    "# Q-5.Create a function in Python to remove the parenthesis in a list of strings. \n",
    "#The use of the re.compile() method is mandatory.\n",
    "\n",
    "sample_text = [\"example (.com)\", \"hr@fliprobo (.com)\", \"github (.com)\", \"Hello (Data Science World)\", \"Data (Scientist)\"]\n",
    "\n",
    "def remove_parentheses(strings):\n",
    "                                                             \n",
    "    pattern = re.compile(r'[()]')\n",
    "                                                              \n",
    "    cleaned_strings = [pattern.sub('', s) for s in strings]\n",
    "    \n",
    "    return cleaned_strings\n",
    "\n",
    "\n",
    "result = remove_parentheses(sample_text)\n",
    "print(result)"
   ]
  },
  {
   "cell_type": "code",
   "execution_count": null,
   "id": "e7f4eb6e",
   "metadata": {},
   "outputs": [],
   "source": [
    "# Q-6.Write a python program to remove the parenthesis area from the text stored in the text file using Regular Expression.\n",
    "\n",
    "Sample_Text = [\"example (.com)\", \"hr@fliprobo (.com)\", \"github (.com)\", \"Hello (Data Science World)\", \"Data (Scientist)\"]"
   ]
  },
  {
   "cell_type": "code",
   "execution_count": 87,
   "id": "f4c73ae0",
   "metadata": {},
   "outputs": [
    {
     "name": "stdout",
     "output_type": "stream",
     "text": [
      "['Importance', 'Of', 'Regular', 'Expressions', 'In', 'Python']\n"
     ]
    }
   ],
   "source": [
    "# Q-7.Write a regular expression in Python to split a string into uppercase letters.\n",
    "\n",
    "text = \"ImportanceOfRegularExpressionsInPython\"\n",
    "matches = re.findall('[A-Z][^A-Z]*', text)\n",
    "\n",
    "print(matches)"
   ]
  },
  {
   "cell_type": "code",
   "execution_count": 118,
   "id": "f3751c52",
   "metadata": {},
   "outputs": [
    {
     "name": "stdout",
     "output_type": "stream",
     "text": [
      "['RegularExpression', '1IsAn', '2ImportantTopic', '3InPython']\n"
     ]
    }
   ],
   "source": [
    "# Q-8.Create a function in python to insert spaces between words starting with numbers.\n",
    "\n",
    "sample_text = 'RegularExpression1IsAn2ImportantTopic3InPython'\n",
    "\n",
    "matches = re.findall(r'\\d?[A-Za-z]+', sample_text)\n",
    "\n",
    "print(matches)"
   ]
  },
  {
   "cell_type": "code",
   "execution_count": 84,
   "id": "f0a6977c",
   "metadata": {},
   "outputs": [],
   "source": [
    "import regex as re"
   ]
  },
  {
   "cell_type": "code",
   "execution_count": 85,
   "id": "dcd6fbe5",
   "metadata": {},
   "outputs": [
    {
     "name": "stdout",
     "output_type": "stream",
     "text": [
      "Regular Expression 1 Is An 2 Important Topic 3 In Python\n"
     ]
    }
   ],
   "source": [
    "# Q-9.Create a function in python to insert spaces between words starting with capital letters or with numbers.\n",
    "\n",
    "sample_text = \"RegularExpression1IsAn2ImportantTopic3InPython\"\n",
    "\n",
    "def insert_spaces(text):\n",
    "    \n",
    "    text = re.sub(r'(\\d)', r' \\1', text)\n",
    "    text = re.sub(r'(?<!^)(?=[A-Z])', ' ', text)\n",
    "    return text\n",
    "\n",
    "result = insert_spaces(sample_text)\n",
    "print(result)"
   ]
  },
  {
   "cell_type": "code",
   "execution_count": 20,
   "id": "1c298e10",
   "metadata": {},
   "outputs": [
    {
     "name": "stdout",
     "output_type": "stream",
     "text": [
      "       Country first_five_letters\n",
      "0  Switzerland              Switz\n",
      "1      Iceland              Icela\n",
      "2      Denmark              Denma\n",
      "3       Norway              Norwa\n",
      "4       Canada              Canad\n"
     ]
    }
   ],
   "source": [
    "# Q-10.Use the github link below to read the data and create a dataframe. \n",
    "#After creating the dataframe extract the first 6 letters of each country and store in the dataframe under \n",
    "#a new column called first_five_letters.\n",
    "\n",
    "import pandas as pd\n",
    "\n",
    "git_url = 'https://raw.githubusercontent.com/dsrscientist/DSData/master/happiness_score_dataset.csv'\n",
    "df = pd.read_csv(git_url)\n",
    "\n",
    "df['first_five_letters'] = df['Country'].str[:5]\n",
    "\n",
    "print(df[['Country', 'first_five_letters']].head())"
   ]
  },
  {
   "cell_type": "code",
   "execution_count": 34,
   "id": "43efa72f",
   "metadata": {},
   "outputs": [
    {
     "name": "stdout",
     "output_type": "stream",
     "text": [
      "['My', 'name', 'is', 'Ali', 'and', 'my', 'date', 'of', 'birth', 'is', '05_', 'jan', '1991']\n"
     ]
    }
   ],
   "source": [
    "# Q-11.Write a Python program to match a string that contains only upper and lowercase letters, numbers, and underscores.\n",
    "\n",
    "pattern = '[a-z,A-Z,0-9_]+'\n",
    "\n",
    "text = 'My name is Ali and my date of birth is 05_ jan 1991' \n",
    "\n",
    "matches = re.findall(pattern, text)\n",
    "\n",
    "print(matches)"
   ]
  },
  {
   "cell_type": "code",
   "execution_count": 40,
   "id": "8a5c57d8",
   "metadata": {},
   "outputs": [
    {
     "name": "stdout",
     "output_type": "stream",
     "text": [
      "['33Hello']\n"
     ]
    }
   ],
   "source": [
    "# Q-12.Write a Python program where a string will start with a specific number.\n",
    "\n",
    "pattern = '^\\w+'                           \n",
    "\n",
    "text = '33Hello _999 55Today 0is 7the most66 Beautiful_day'\n",
    "\n",
    "matches = re.findall(pattern, text)\n",
    "\n",
    "print(matches)"
   ]
  },
  {
   "cell_type": "code",
   "execution_count": 83,
   "id": "f1491531",
   "metadata": {},
   "outputs": [
    {
     "name": "stdout",
     "output_type": "stream",
     "text": [
      "192.168.1.1, 10.20.30.40, 1.2.3.4\n"
     ]
    }
   ],
   "source": [
    "# Q-13.Write a Python program to remove leading zeros from an IP address\n",
    "\n",
    "ip_address1 = \"192.168.001.001, 010.020.030.040, 001.002.003.004\"\n",
    "\n",
    "\n",
    "cleaned_ip = re.sub(r'\\b0+(\\d)', r'\\1', ip_address1)\n",
    "\n",
    "print(cleaned_ip)"
   ]
  },
  {
   "cell_type": "code",
   "execution_count": 69,
   "id": "e933ce2f",
   "metadata": {},
   "outputs": [
    {
     "name": "stdout",
     "output_type": "stream",
     "text": [
      "<re.Match object; span=(3, 19), match='August 15th 1947'>\n"
     ]
    }
   ],
   "source": [
    "# Q-14.Write a regular expression in python to match a date string in the form of Month name followed \n",
    "#by day number and year stored in a text file.\n",
    "\n",
    "sample_text = '''On August 15th 1947 that India was declared independent from British colonialism,\n",
    "                  and the reins of control were handed over to the leaders of the Country.'''\n",
    "\n",
    "file_name = 'sample_text.txt'\n",
    "\n",
    "pattern = r'\\b([A-Z][a-z]+ \\d{1,2}(th) \\d{4})\\b'\n",
    "\n",
    "\n",
    "matches = re.search(pattern, sample_text)\n",
    "\n",
    "print(matches)"
   ]
  },
  {
   "cell_type": "code",
   "execution_count": null,
   "id": "9170d14f",
   "metadata": {},
   "outputs": [],
   "source": []
  },
  {
   "cell_type": "code",
   "execution_count": 64,
   "id": "fe3e285c",
   "metadata": {},
   "outputs": [
    {
     "name": "stdout",
     "output_type": "stream",
     "text": [
      "['fox', 'dog']\n"
     ]
    }
   ],
   "source": [
    "# Q-15.Write a Python program to search some literals strings in a string.\n",
    "\n",
    "text = 'The quick brown fox jumps over the lazy dog.'\n",
    "\n",
    "pattern = 'fox|dog|horse'\n",
    "\n",
    "matches = re.findall(pattern, text)\n",
    "\n",
    "print(matches)"
   ]
  },
  {
   "cell_type": "code",
   "execution_count": 70,
   "id": "37c8470a",
   "metadata": {},
   "outputs": [
    {
     "name": "stdout",
     "output_type": "stream",
     "text": [
      "<re.Match object; span=(16, 19), match='fox'>\n"
     ]
    }
   ],
   "source": [
    "# Q-16.Write a Python program to search a literals string in a string and also find the location \n",
    "#within the original string where the pattern occurs\n",
    "\n",
    "text2 = 'The quick brown fox jumps over the lazy dog.'\n",
    "\n",
    "pattern = 'fox'\n",
    "\n",
    "matches = re.search(pattern, text2)\n",
    "\n",
    "print(matches)\n"
   ]
  },
  {
   "cell_type": "code",
   "execution_count": 7,
   "id": "2014b7c4",
   "metadata": {},
   "outputs": [],
   "source": [
    "import regex as re "
   ]
  },
  {
   "cell_type": "code",
   "execution_count": 6,
   "id": "44d1fb01",
   "metadata": {},
   "outputs": [
    {
     "name": "stdout",
     "output_type": "stream",
     "text": [
      "['exercises', 'exercises', 'exercises']\n"
     ]
    }
   ],
   "source": [
    "# Q-17.- Write a Python program to find the substrings within a string.\n",
    "\n",
    "target_string = 'Python exercises, PHP exercises, C# exercises'\n",
    "pattern_substring = 'exercises'\n",
    "matches = re.findall(pattern_substring, target_string)\n",
    "\n",
    "print(matches)"
   ]
  },
  {
   "cell_type": "code",
   "execution_count": 9,
   "id": "83c7d5e6",
   "metadata": {},
   "outputs": [
    {
     "name": "stdout",
     "output_type": "stream",
     "text": [
      "string 'exercises' found at position (7, 16)\n",
      "string 'exercises' found at position (22, 31)\n",
      "string 'exercises' found at position (36, 45)\n"
     ]
    }
   ],
   "source": [
    "# Q-18.Write a Python program to find the occurrence and position of the substrings within a string.\n",
    "\n",
    "my_string = 'Python exercises, PHP exercises, C# exercises'\n",
    "my_substring = 'exercises'\n",
    "m = re.finditer(my_substring, my_string)\n",
    "for match in m:\n",
    "    print('string \\'{}\\''.format(my_substring), 'found at position', match.span())\n"
   ]
  },
  {
   "cell_type": "code",
   "execution_count": 11,
   "id": "8bb85492",
   "metadata": {},
   "outputs": [
    {
     "name": "stdout",
     "output_type": "stream",
     "text": [
      "22-08-2024\n"
     ]
    }
   ],
   "source": [
    "# Q-19.Write a Python program to convert a date of yyyy-mm-dd format to dd-mm-yyyy format.\n",
    "\n",
    "date = '2024-08-22'\n",
    "matches = re.split('-', date)\n",
    "new_date = '-'.join(matches[::-1])\n",
    "print(new_date)\n"
   ]
  },
  {
   "cell_type": "code",
   "execution_count": 12,
   "id": "b18613f7",
   "metadata": {},
   "outputs": [
    {
     "name": "stdout",
     "output_type": "stream",
     "text": [
      "['01.12', '145.8', '3.01', '27.25', '0.25']\n"
     ]
    }
   ],
   "source": [
    "# Q-20.Create a function in python to find all decimal numbers with a precision of 1 or 2 in a string. \n",
    "#The use of the re.compile() method is mandatory.\n",
    "\n",
    "sample_text = \"01.12 0132.123 2.31875 145.8 3.01 27.25 0.25\"\n",
    "\n",
    "pattern = re.compile(r'\\b\\d+\\.\\d{1,2}\\b')\n",
    "\n",
    "matches = re.findall(pattern, sample_text)\n",
    "\n",
    "print(matches)\n"
   ]
  },
  {
   "cell_type": "code",
   "execution_count": 22,
   "id": "415752b9",
   "metadata": {},
   "outputs": [
    {
     "name": "stdout",
     "output_type": "stream",
     "text": [
      "Number: 4, Position: 7\n",
      "Number: 2, Position: 9\n",
      "Number: 2024, Position: 38\n"
     ]
    }
   ],
   "source": [
    "# Q-21.Write a Python program to separate and print the numbers and their position of a given string.\n",
    "\n",
    "sample_text = 'python 4.2 is a very good version for 2024'\n",
    "\n",
    "pattern = re.compile(r'\\d+')\n",
    "\n",
    "matches = pattern.finditer(sample_text)\n",
    "\n",
    "for match in matches:\n",
    "    number = match.group()      \n",
    "    position = match.start()   \n",
    "    print(f\"Number: {number}, Position: {position}\")"
   ]
  },
  {
   "cell_type": "code",
   "execution_count": 30,
   "id": "24e3f347",
   "metadata": {},
   "outputs": [
    {
     "name": "stdout",
     "output_type": "stream",
     "text": [
      "950\n"
     ]
    }
   ],
   "source": [
    "# Q-22.Write a regular expression in python program to extract maximum/largest numeric value from a string.\n",
    "\n",
    "sample_text = 'My marks in each semester are: 947, 896, 926, 524, 734, 950, 642'\n",
    "\n",
    "max_value = max(map(int, re.findall(r'\\d+', sample_text)))\n",
    "\n",
    "\n",
    "print(max_value)\n"
   ]
  },
  {
   "cell_type": "code",
   "execution_count": 31,
   "id": "c9e32a07",
   "metadata": {},
   "outputs": [
    {
     "name": "stdout",
     "output_type": "stream",
     "text": [
      "Regular Expression Is An Important Topic In Python\n"
     ]
    }
   ],
   "source": [
    "# Q-23.Create a function in python to insert spaces between words starting with capital letters.\n",
    "\n",
    "sample_text = 'RegularExpressionIsAnImportantTopicInPython'\n",
    "\n",
    "text = re.sub(r'(?<!^)(?=[A-Z])', ' ', sample_text)\n",
    "\n",
    "print(text)"
   ]
  },
  {
   "cell_type": "code",
   "execution_count": 36,
   "id": "3e807084",
   "metadata": {},
   "outputs": [
    {
     "name": "stdout",
     "output_type": "stream",
     "text": [
      "['Hello', 'World', 'This', 'Test']\n"
     ]
    }
   ],
   "source": [
    "# Q-24.Python regex to find sequences of one upper case letter followed by lower case letters\n",
    "\n",
    "my_string = \"Hello World, This is a myyy Test.\"\n",
    "\n",
    "pattern = r'[A-Z][a-z]+'\n",
    "\n",
    "matches = re.findall(pattern, my_string)\n",
    "\n",
    "print(matches)"
   ]
  },
  {
   "cell_type": "code",
   "execution_count": 44,
   "id": "311b3685",
   "metadata": {},
   "outputs": [
    {
     "name": "stdout",
     "output_type": "stream",
     "text": [
      "Hello hello world\n"
     ]
    }
   ],
   "source": [
    "# Q-25.Write a Python program to remove continuous duplicate words from Sentence using Regular Expression.\n",
    "sample_text = \"Hello hello world world\"\n",
    "\n",
    "pattern = r'\\b(\\w+)(\\s+\\1)+\\b'\n",
    "\n",
    "x = re.sub(pattern, r'\\1', sample_text)\n",
    "\n",
    "print(x)\n"
   ]
  },
  {
   "cell_type": "code",
   "execution_count": 82,
   "id": "e110b045",
   "metadata": {},
   "outputs": [
    {
     "name": "stdout",
     "output_type": "stream",
     "text": [
      "['Beautifulday22']\n"
     ]
    }
   ],
   "source": [
    "# Q-26.Write a python program using RegEx to accept string ending with alphanumeric character.\n",
    "\n",
    "pattern = '\\w+$'                           \n",
    "\n",
    "text = 'Hello _999 Today is the most66 Beautifulday22'\n",
    "\n",
    "matches = re.findall(pattern, text)\n",
    "\n",
    "print(matches)"
   ]
  },
  {
   "cell_type": "code",
   "execution_count": 69,
   "id": "fbc720b3",
   "metadata": {},
   "outputs": [
    {
     "name": "stdout",
     "output_type": "stream",
     "text": [
      "['#Doltiwal', '#xyzabc', '#Demonetization']\n"
     ]
    }
   ],
   "source": [
    "# Q-27.-Write a python program using RegEx to extract the hashtags.\n",
    "sample_text = \"\"\"RT @kapil_kausik: #Doltiwal I mean #xyzabc is \"hurt\" \n",
    "by #Demonetization as the same has rendered USELESS <ed><U+00A0><U+00BD><ed><U+00B1><U+0089> \"acquired funds\" No wo\"\"\"\n",
    "\n",
    "pattern = (r'#\\w+')\n",
    "\n",
    "matches = re.findall(pattern, sample_text)\n",
    "\n",
    "print(matches)"
   ]
  },
  {
   "cell_type": "code",
   "execution_count": 78,
   "id": "ba5be8ee",
   "metadata": {},
   "outputs": [
    {
     "name": "stdout",
     "output_type": "stream",
     "text": [
      "@Jags123456 Bharat band on 28??<ed><ed>Those who  \n",
      "are protesting #demonetization  are all different party leaders\n"
     ]
    }
   ],
   "source": [
    "# Q-28.Write a python program using RegEx to remove <U+..> like symbols\n",
    "#Check the below sample text, there are strange symbols something of the sort <U+..> all over the place. \n",
    "#You need to come up with a general Regex expression that will cover all such symbols.\n",
    "\n",
    "sample_text = '''@Jags123456 Bharat band on 28??<ed><U+00A0><U+00BD><ed><U+00B8><U+0082>Those who  \n",
    "are protesting #demonetization  are all different party leaders'''\n",
    "\n",
    "cleaned_text = re.sub(r'<U\\+[A-F0-9]{4}>', '', sample_text)\n",
    "print(cleaned_text)"
   ]
  },
  {
   "cell_type": "code",
   "execution_count": 79,
   "id": "1f61fac0",
   "metadata": {},
   "outputs": [
    {
     "name": "stdout",
     "output_type": "stream",
     "text": [
      "['12-09-1992', '15-12-1999']\n"
     ]
    }
   ],
   "source": [
    "# Q-29.Write a python program to extract dates from the text stored in the text file.\n",
    "sample_text = 'Ron was born on 12-09-1992 and he was admitted to school 15-12-1999.'\n",
    "\n",
    "pattern = r'\\b\\d{2}-\\d{2}-\\d{4}\\b'\n",
    "\n",
    "matches = re.findall(pattern, sample_text)\n",
    "\n",
    "print(matches)"
   ]
  },
  {
   "cell_type": "code",
   "execution_count": 81,
   "id": "127f5914",
   "metadata": {},
   "outputs": [
    {
     "name": "stdout",
     "output_type": "stream",
     "text": [
      "following example creates ArrayList a capacity elements. 4 elements added ArrayList ArrayList trimmed accordingly.\n"
     ]
    }
   ],
   "source": [
    "# Q-30.Create a function in python to remove all words from a string of length between 2 and 4.\n",
    "#The use of the re.compile() method is mandatory.\n",
    "\n",
    "sample_text = '''The following example creates an ArrayList with a capacity of 50 elements. \n",
    "              4 elements are then added to the ArrayList and the ArrayList is trimmed accordingly.'''\n",
    "\n",
    "pattern = re.compile(r'\\b\\w{2,4}\\b')\n",
    "\n",
    "result = pattern.sub('', sample_text)\n",
    "\n",
    "result = re.sub(r'\\s+', ' ', result).strip()\n",
    "\n",
    "print(result)"
   ]
  },
  {
   "cell_type": "code",
   "execution_count": null,
   "id": "48274d1e",
   "metadata": {},
   "outputs": [],
   "source": [
    "following example creates ArrayList a capacity elements. 4 elements added ArrayList ArrayList trimmed accordingly."
   ]
  }
 ],
 "metadata": {
  "kernelspec": {
   "display_name": "Python 3 (ipykernel)",
   "language": "python",
   "name": "python3"
  },
  "language_info": {
   "codemirror_mode": {
    "name": "ipython",
    "version": 3
   },
   "file_extension": ".py",
   "mimetype": "text/x-python",
   "name": "python",
   "nbconvert_exporter": "python",
   "pygments_lexer": "ipython3",
   "version": "3.9.13"
  }
 },
 "nbformat": 4,
 "nbformat_minor": 5
}
